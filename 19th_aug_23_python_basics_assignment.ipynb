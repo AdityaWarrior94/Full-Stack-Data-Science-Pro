{
  "nbformat": 4,
  "nbformat_minor": 0,
  "metadata": {
    "colab": {
      "provenance": [],
      "authorship_tag": "ABX9TyMpLKNt3GDGFLlldlEGspqg",
      "include_colab_link": true
    },
    "kernelspec": {
      "name": "python3",
      "display_name": "Python 3"
    },
    "language_info": {
      "name": "python"
    }
  },
  "cells": [
    {
      "cell_type": "markdown",
      "metadata": {
        "id": "view-in-github",
        "colab_type": "text"
      },
      "source": [
        "<a href=\"https://colab.research.google.com/github/AdityaWarrior94/Full-Stack-Data-Science-Pro/blob/main/19th_aug_23_python_basics_assignment.ipynb\" target=\"_parent\"><img src=\"https://colab.research.google.com/assets/colab-badge.svg\" alt=\"Open In Colab\"/></a>"
      ]
    },
    {
      "cell_type": "code",
      "source": [
        "x = 10\n",
        "y = 5\n",
        "\n",
        "# Swapping values without using a temporary variable\n",
        "x, y = y, x\n",
        "\n",
        "# Now, x has the value that y originally had, and y has the value that x originally had\n",
        "print(\"After swapping:\")\n",
        "print(\"x =\", x)\n",
        "print(\"y =\", y)"
      ],
      "metadata": {
        "colab": {
          "base_uri": "https://localhost:8080/"
        },
        "id": "Ye3csjGU-Y3A",
        "outputId": "e393d116-e3ba-4e2b-e00a-e68d8631754d"
      },
      "execution_count": null,
      "outputs": [
        {
          "output_type": "stream",
          "name": "stdout",
          "text": [
            "After swapping:\n",
            "x = 5\n",
            "y = 10\n"
          ]
        }
      ]
    },
    {
      "cell_type": "code",
      "source": [
        "length =float(input(\"Enter the length of the rectangle\"))\n",
        "Width =float(input(\"Enter the length of the rectangle\"))\n",
        "area = length * width\n",
        "print(\"The area of the rectangle is:\", area)"
      ],
      "metadata": {
        "colab": {
          "base_uri": "https://localhost:8080/"
        },
        "id": "hOz8h4sB59M6",
        "outputId": "5210eae0-839e-44b1-cef1-631062192a39"
      },
      "execution_count": null,
      "outputs": [
        {
          "output_type": "stream",
          "name": "stdout",
          "text": [
            "Enter the length of the rectangle4\n",
            "Enter the length of the rectangle5\n",
            "The area of the rectangle is: 20.0\n"
          ]
        }
      ]
    },
    {
      "cell_type": "code",
      "source": [
        "celsius_temperature = float(input(\"Enter the temperature in Celsius: \"))\n",
        "fahrenheit_temperature = (celsius_temperature * 9/5) + 32\n",
        "print(\"Temperature in Fahrenheit:\", fahrenheit_temperature)"
      ],
      "metadata": {
        "colab": {
          "base_uri": "https://localhost:8080/"
        },
        "id": "zG7XCh1a7PvC",
        "outputId": "f0571186-6aa7-400d-e678-dd7fc0c7235a"
      },
      "execution_count": null,
      "outputs": [
        {
          "output_type": "stream",
          "name": "stdout",
          "text": [
            "Enter the temperature in Celsius: 35\n",
            "Temperature in Fahrenheit: 95.0\n"
          ]
        }
      ]
    },
    {
      "cell_type": "code",
      "source": [
        "\n",
        "user_input = input(\"My Name is : \")\n",
        "string_length = len(user_input)\n",
        "print(\"Length of the string:\", string_length)"
      ],
      "metadata": {
        "colab": {
          "base_uri": "https://localhost:8080/"
        },
        "id": "iMgVfejk7zY7",
        "outputId": "750264d9-82bf-466e-9cf7-0617951deba0"
      },
      "execution_count": null,
      "outputs": [
        {
          "output_type": "stream",
          "name": "stdout",
          "text": [
            "My Name is : Aditya\n",
            "Length of the string: 6\n"
          ]
        }
      ]
    },
    {
      "cell_type": "code",
      "source": [
        "user_sentence = input(\"Enter a sentence: \")\n",
        "user_sentence_lower = user_sentence.lower()\n",
        "vowel_count = 0\n",
        "for char in user_sentence_lower:\n",
        "    if char in \"aeiou\":\n",
        "        vowel_count += 1\n",
        "        print(\"Number of vowels in the sentence:\", vowel_count)"
      ],
      "metadata": {
        "colab": {
          "base_uri": "https://localhost:8080/"
        },
        "id": "iVBltd3F8IJr",
        "outputId": "9170fae7-0a9d-445d-f85d-41377324a874"
      },
      "execution_count": null,
      "outputs": [
        {
          "output_type": "stream",
          "name": "stdout",
          "text": [
            "Enter a sentence: aditya\n",
            "Number of vowels in the sentence: 1\n",
            "Number of vowels in the sentence: 2\n",
            "Number of vowels in the sentence: 3\n"
          ]
        }
      ]
    },
    {
      "cell_type": "code",
      "source": [
        "user_input = input(\"Enter a string: \")\n",
        "reversed_string = user_input[::-1]\n",
        "print(\"Reversed string:\", reversed_string)\n"
      ],
      "metadata": {
        "colab": {
          "base_uri": "https://localhost:8080/"
        },
        "id": "_sokHAus9TBD",
        "outputId": "4cbb3e06-3bc6-4e85-f56f-631a000f8683"
      },
      "execution_count": null,
      "outputs": [
        {
          "output_type": "stream",
          "name": "stdout",
          "text": [
            "Enter a string: aditya\n",
            "Reversed string: aytida\n"
          ]
        }
      ]
    },
    {
      "cell_type": "code",
      "source": [
        "# Input a string from the user\n",
        "user_input = input(\"Enter a string: \")\n",
        "\n",
        "# Remove spaces and convert to lowercase for case-insensitive comparison\n",
        "cleaned_input = user_input.replace(\" \", \"\").lower()\n",
        "\n",
        "# Check if the cleaned string is a palindrome\n",
        "if cleaned_input == cleaned_input[::-1]:\n",
        "    print(\"The entered string is a palindrome.\")\n",
        "else:\n",
        "    print(\"The entered string is not a palindrome.\")"
      ],
      "metadata": {
        "colab": {
          "base_uri": "https://localhost:8080/"
        },
        "id": "qNrFllpd8xZu",
        "outputId": "54e10f25-f714-454c-da17-32a2b264dcc6"
      },
      "execution_count": null,
      "outputs": [
        {
          "output_type": "stream",
          "name": "stdout",
          "text": [
            "Enter a string: aka\n",
            "The entered string is a palindrome.\n"
          ]
        }
      ]
    },
    {
      "cell_type": "code",
      "source": [
        "user_input = input(\"Enter a string: \")\n",
        "string_without_spaces = user_input.replace(\" \", \"\")\n",
        "print(\"Modified string without spaces:\", string_without_spaces)"
      ],
      "metadata": {
        "colab": {
          "base_uri": "https://localhost:8080/"
        },
        "id": "9PKYrpr49p9x",
        "outputId": "8ca7fd7e-7497-45a0-d59c-e795ca2926d0"
      },
      "execution_count": null,
      "outputs": [
        {
          "output_type": "stream",
          "name": "stdout",
          "text": [
            "Enter a string: a sd as\n",
            "Modified string without spaces: asdas\n"
          ]
        }
      ]
    },
    {
      "cell_type": "code",
      "source": [
        "\n"
      ],
      "metadata": {
        "id": "694c6nyq-DXP"
      },
      "execution_count": null,
      "outputs": []
    }
  ]
}