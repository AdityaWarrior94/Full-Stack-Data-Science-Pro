{
  "nbformat": 4,
  "nbformat_minor": 0,
  "metadata": {
    "colab": {
      "provenance": [],
      "include_colab_link": true
    },
    "kernelspec": {
      "name": "python3",
      "display_name": "Python 3"
    },
    "language_info": {
      "name": "python"
    }
  },
  "cells": [
    {
      "cell_type": "markdown",
      "metadata": {
        "id": "view-in-github",
        "colab_type": "text"
      },
      "source": [
        "<a href=\"https://colab.research.google.com/github/AdityaWarrior94/Full-Stack-Data-Science-Pro/blob/main/19th_aug_23_python_basics_assignment.ipynb\" target=\"_parent\"><img src=\"https://colab.research.google.com/assets/colab-badge.svg\" alt=\"Open In Colab\"/></a>"
      ]
    },
    {
      "source": [
        "coordinates = (10, 20)\n",
        "colors = (\"red\", \"green\", \"blue\")\n",
        "print(type(coordinates))  # Output: <class 'tuple'>"
      ],
      "cell_type": "code",
      "metadata": {
        "id": "Y7GB-Md9Ndwv"
      },
      "execution_count": null,
      "outputs": []
    },
    {
      "cell_type": "code",
      "source": [
        "x = 10\n",
        "y = 5\n",
        "\n",
        "# Swapping values without using a temporary variable\n",
        "x, y = y, x\n",
        "\n",
        "# Now, x has the value that y originally had, and y has the value that x originally had\n",
        "print(\"After swapping:\")\n",
        "print(\"x =\", x)\n",
        "print(\"y =\", y)"
      ],
      "metadata": {
        "colab": {
          "base_uri": "https://localhost:8080/"
        },
        "id": "Ye3csjGU-Y3A",
        "outputId": "e393d116-e3ba-4e2b-e00a-e68d8631754d"
      },
      "execution_count": null,
      "outputs": [
        {
          "output_type": "stream",
          "name": "stdout",
          "text": [
            "After swapping:\n",
            "x = 5\n",
            "y = 10\n"
          ]
        }
      ]
    },
    {
      "cell_type": "code",
      "source": [
        "length =float(input(\"Enter the length of the rectangle\"))\n",
        "Width =float(input(\"Enter the length of the rectangle\"))\n",
        "area = length * width\n",
        "print(\"The area of the rectangle is:\", area)"
      ],
      "metadata": {
        "colab": {
          "base_uri": "https://localhost:8080/"
        },
        "id": "hOz8h4sB59M6",
        "outputId": "5210eae0-839e-44b1-cef1-631062192a39"
      },
      "execution_count": null,
      "outputs": [
        {
          "output_type": "stream",
          "name": "stdout",
          "text": [
            "Enter the length of the rectangle4\n",
            "Enter the length of the rectangle5\n",
            "The area of the rectangle is: 20.0\n"
          ]
        }
      ]
    },
    {
      "cell_type": "code",
      "source": [
        "celsius_temperature = float(input(\"Enter the temperature in Celsius: \"))\n",
        "fahrenheit_temperature = (celsius_temperature * 9/5) + 32\n",
        "print(\"Temperature in Fahrenheit:\", fahrenheit_temperature)"
      ],
      "metadata": {
        "colab": {
          "base_uri": "https://localhost:8080/"
        },
        "id": "zG7XCh1a7PvC",
        "outputId": "f0571186-6aa7-400d-e678-dd7fc0c7235a"
      },
      "execution_count": null,
      "outputs": [
        {
          "output_type": "stream",
          "name": "stdout",
          "text": [
            "Enter the temperature in Celsius: 35\n",
            "Temperature in Fahrenheit: 95.0\n"
          ]
        }
      ]
    },
    {
      "cell_type": "code",
      "source": [
        "\n",
        "user_input = input(\"My Name is : \")\n",
        "string_length = len(user_input)\n",
        "print(\"Length of the string:\", string_length)"
      ],
      "metadata": {
        "colab": {
          "base_uri": "https://localhost:8080/"
        },
        "id": "iMgVfejk7zY7",
        "outputId": "750264d9-82bf-466e-9cf7-0617951deba0"
      },
      "execution_count": null,
      "outputs": [
        {
          "output_type": "stream",
          "name": "stdout",
          "text": [
            "My Name is : Aditya\n",
            "Length of the string: 6\n"
          ]
        }
      ]
    },
    {
      "cell_type": "code",
      "source": [
        "user_sentence = input(\"Enter a sentence: \")\n",
        "user_sentence_lower = user_sentence.lower()\n",
        "vowel_count = 0\n",
        "for char in user_sentence_lower:\n",
        "    if char in \"aeiou\":\n",
        "        vowel_count += 1\n",
        "        print(\"Number of vowels in the sentence:\", vowel_count)"
      ],
      "metadata": {
        "colab": {
          "base_uri": "https://localhost:8080/"
        },
        "id": "iVBltd3F8IJr",
        "outputId": "9170fae7-0a9d-445d-f85d-41377324a874"
      },
      "execution_count": null,
      "outputs": [
        {
          "output_type": "stream",
          "name": "stdout",
          "text": [
            "Enter a sentence: aditya\n",
            "Number of vowels in the sentence: 1\n",
            "Number of vowels in the sentence: 2\n",
            "Number of vowels in the sentence: 3\n"
          ]
        }
      ]
    },
    {
      "cell_type": "code",
      "source": [
        "user_input = input(\"Enter a string: \")\n",
        "reversed_string = user_input[::-1]\n",
        "print(\"Reversed string:\", reversed_string)\n"
      ],
      "metadata": {
        "colab": {
          "base_uri": "https://localhost:8080/"
        },
        "id": "_sokHAus9TBD",
        "outputId": "4cbb3e06-3bc6-4e85-f56f-631a000f8683"
      },
      "execution_count": null,
      "outputs": [
        {
          "output_type": "stream",
          "name": "stdout",
          "text": [
            "Enter a string: aditya\n",
            "Reversed string: aytida\n"
          ]
        }
      ]
    },
    {
      "cell_type": "code",
      "source": [
        "# Input a string from the user\n",
        "user_input = input(\"Enter a string: \")\n",
        "\n",
        "# Remove spaces and convert to lowercase for case-insensitive comparison\n",
        "cleaned_input = user_input.replace(\" \", \"\").lower()\n",
        "\n",
        "# Check if the cleaned string is a palindrome\n",
        "if cleaned_input == cleaned_input[::-1]:\n",
        "    print(\"The entered string is a palindrome.\")\n",
        "else:\n",
        "    print(\"The entered string is not a palindrome.\")"
      ],
      "metadata": {
        "colab": {
          "base_uri": "https://localhost:8080/"
        },
        "id": "qNrFllpd8xZu",
        "outputId": "54e10f25-f714-454c-da17-32a2b264dcc6"
      },
      "execution_count": null,
      "outputs": [
        {
          "output_type": "stream",
          "name": "stdout",
          "text": [
            "Enter a string: aka\n",
            "The entered string is a palindrome.\n"
          ]
        }
      ]
    },
    {
      "cell_type": "code",
      "source": [
        "user_input = input(\"Enter a string: \")\n",
        "string_without_spaces = user_input.replace(\" \", \"\")\n",
        "print(\"Modified string without spaces:\", string_without_spaces)"
      ],
      "metadata": {
        "colab": {
          "base_uri": "https://localhost:8080/"
        },
        "id": "9PKYrpr49p9x",
        "outputId": "8ca7fd7e-7497-45a0-d59c-e795ca2926d0"
      },
      "execution_count": null,
      "outputs": [
        {
          "output_type": "stream",
          "name": "stdout",
          "text": [
            "Enter a string: a sd as\n",
            "Modified string without spaces: asdas\n"
          ]
        }
      ]
    },
    {
      "cell_type": "code",
      "source": [
        "\n"
      ],
      "metadata": {
        "id": "694c6nyq-DXP"
      },
      "execution_count": null,
      "outputs": []
    },
    {
      "source": [
        "coordinates = (10, 20)\n",
        "colors = (\"red\", \"green\", \"blue\")\n",
        "print(type(coordinates))  # Output: <class 'tuple'>"
      ],
      "cell_type": "code",
      "metadata": {
        "colab": {
          "base_uri": "https://localhost:8080/"
        },
        "id": "2iXda8mINgkc",
        "outputId": "6322b9af-11f3-4fe6-df05-716a21109edd"
      },
      "execution_count": null,
      "outputs": [
        {
          "output_type": "stream",
          "name": "stdout",
          "text": [
            "<class 'tuple'>\n"
          ]
        }
      ]
    },
    {
      "cell_type": "code",
      "source": [],
      "metadata": {
        "id": "lwu2De6ONhTc"
      },
      "execution_count": null,
      "outputs": []
    },
    {
      "source": [
        "person = {\"name\": \"Bob\", \"age\": 30, \"city\": \"New York\"}\n",
        "print(type(person))  # Output: <class 'dict'>"
      ],
      "cell_type": "code",
      "metadata": {
        "colab": {
          "base_uri": "https://localhost:8080/"
        },
        "id": "0bo2IO9-NoL0",
        "outputId": "a770a8a3-a575-4e30-96d4-e0d847cce55a"
      },
      "execution_count": null,
      "outputs": [
        {
          "output_type": "stream",
          "name": "stdout",
          "text": [
            "<class 'dict'>\n"
          ]
        }
      ]
    },
    {
      "cell_type": "code",
      "source": [],
      "metadata": {
        "id": "yAnsgyqPNpLz"
      },
      "execution_count": null,
      "outputs": []
    },
    {
      "source": [
        "unique_numbers = {1, 2, 3, 3, 4}  # Duplicates are removed\n",
        "print(unique_numbers)  # Output: {1, 2, 3, 4}\n",
        "print(type(unique_numbers))  # Output: <class 'set'>"
      ],
      "cell_type": "code",
      "metadata": {
        "colab": {
          "base_uri": "https://localhost:8080/"
        },
        "id": "MX0sbxxdNtpQ",
        "outputId": "52f23470-4bab-4817-8141-9cd3e67501bb"
      },
      "execution_count": null,
      "outputs": [
        {
          "output_type": "stream",
          "name": "stdout",
          "text": [
            "{1, 2, 3, 4}\n",
            "<class 'set'>\n"
          ]
        }
      ]
    },
    {
      "cell_type": "code",
      "source": [],
      "metadata": {
        "id": "-t0QeRcONuPk"
      },
      "execution_count": null,
      "outputs": []
    },
    {
      "source": [
        "is_raining = True\n",
        "is_sunny = False\n",
        "print(type(is_raining))  # Output: <class 'bool'>"
      ],
      "cell_type": "code",
      "metadata": {
        "colab": {
          "base_uri": "https://localhost:8080/"
        },
        "id": "a7CWf54NNvwF",
        "outputId": "0c263d7e-8c87-4084-fb33-418f791563cb"
      },
      "execution_count": null,
      "outputs": [
        {
          "output_type": "stream",
          "name": "stdout",
          "text": [
            "<class 'bool'>\n"
          ]
        }
      ]
    },
    {
      "cell_type": "code",
      "source": [],
      "metadata": {
        "id": "iKbAMbBhNwfM"
      },
      "execution_count": null,
      "outputs": []
    },
    {
      "source": [
        "result = None\n",
        "print(type(result))  # Output: <class 'NoneType'>"
      ],
      "cell_type": "code",
      "metadata": {
        "colab": {
          "base_uri": "https://localhost:8080/"
        },
        "id": "n_zk_2MtNyIF",
        "outputId": "110c9cd9-fb8b-4d33-c390-35f9338e6958"
      },
      "execution_count": null,
      "outputs": [
        {
          "output_type": "stream",
          "name": "stdout",
          "text": [
            "<class 'NoneType'>\n"
          ]
        }
      ]
    },
    {
      "cell_type": "code",
      "source": [
        "l1= [1,2,3,4,\"Aditya\",3.34,True,[1,2,3]]"
      ],
      "metadata": {
        "id": "cXPvperuNy09"
      },
      "execution_count": null,
      "outputs": []
    },
    {
      "cell_type": "code",
      "source": [
        "type(l1)"
      ],
      "metadata": {
        "colab": {
          "base_uri": "https://localhost:8080/"
        },
        "id": "_gsJKLqooucb",
        "outputId": "6554b317-87a3-4931-ffc9-085f63317eb9"
      },
      "execution_count": null,
      "outputs": [
        {
          "output_type": "execute_result",
          "data": {
            "text/plain": [
              "list"
            ]
          },
          "metadata": {},
          "execution_count": 18
        }
      ]
    },
    {
      "cell_type": "code",
      "source": [
        "l1[5]"
      ],
      "metadata": {
        "colab": {
          "base_uri": "https://localhost:8080/"
        },
        "id": "exRtMAaSpAPi",
        "outputId": "7a89a8ad-b95d-4a5b-9738-b86c231fff0f"
      },
      "execution_count": null,
      "outputs": [
        {
          "output_type": "execute_result",
          "data": {
            "text/plain": [
              "3.34"
            ]
          },
          "metadata": {},
          "execution_count": 19
        }
      ]
    },
    {
      "cell_type": "code",
      "source": [
        "l1[-3]"
      ],
      "metadata": {
        "colab": {
          "base_uri": "https://localhost:8080/"
        },
        "id": "ralsZSaspKHe",
        "outputId": "be84e0ed-7b0d-45d9-c220-4530d5678996"
      },
      "execution_count": null,
      "outputs": [
        {
          "output_type": "execute_result",
          "data": {
            "text/plain": [
              "3.34"
            ]
          },
          "metadata": {},
          "execution_count": 20
        }
      ]
    },
    {
      "cell_type": "code",
      "source": [
        "l1[0:3]"
      ],
      "metadata": {
        "colab": {
          "base_uri": "https://localhost:8080/"
        },
        "id": "7VyPI_q4pMyD",
        "outputId": "3f059375-2781-4aab-85c9-cca5ca6b6e1b"
      },
      "execution_count": null,
      "outputs": [
        {
          "output_type": "execute_result",
          "data": {
            "text/plain": [
              "[1, 2, 3]"
            ]
          },
          "metadata": {},
          "execution_count": 21
        }
      ]
    },
    {
      "cell_type": "code",
      "source": [
        "l1[-1:-3]"
      ],
      "metadata": {
        "colab": {
          "base_uri": "https://localhost:8080/"
        },
        "id": "YRyabNWWs-Hr",
        "outputId": "f6bfd5b3-c703-4bf1-8edb-dcd0605d0c48"
      },
      "execution_count": null,
      "outputs": [
        {
          "output_type": "execute_result",
          "data": {
            "text/plain": [
              "[]"
            ]
          },
          "metadata": {},
          "execution_count": 22
        }
      ]
    },
    {
      "cell_type": "code",
      "source": [
        "l1[-1]"
      ],
      "metadata": {
        "colab": {
          "base_uri": "https://localhost:8080/"
        },
        "id": "xY21VXXjtUDo",
        "outputId": "230cfebb-8025-42d5-b3ba-316bb6f1eda4"
      },
      "execution_count": null,
      "outputs": [
        {
          "output_type": "execute_result",
          "data": {
            "text/plain": [
              "[1, 2, 3]"
            ]
          },
          "metadata": {},
          "execution_count": 23
        }
      ]
    },
    {
      "cell_type": "code",
      "source": [
        "l2=[3,4,5,\"pwskills\",\"learn easily\"]"
      ],
      "metadata": {
        "id": "40c6jDmFtaMa"
      },
      "execution_count": null,
      "outputs": []
    },
    {
      "cell_type": "code",
      "source": [
        "l1+l2 #Concatenation"
      ],
      "metadata": {
        "colab": {
          "base_uri": "https://localhost:8080/"
        },
        "id": "7OVigC0Nt0xR",
        "outputId": "7f00020e-12af-48b3-e618-796ecd529ed9"
      },
      "execution_count": null,
      "outputs": [
        {
          "output_type": "execute_result",
          "data": {
            "text/plain": [
              "[1,\n",
              " 2,\n",
              " 3,\n",
              " 4,\n",
              " 'Aditya',\n",
              " 3.34,\n",
              " True,\n",
              " [1, 2, 3],\n",
              " 3,\n",
              " 4,\n",
              " 5,\n",
              " 'pwskills',\n",
              " 'learn easily']"
            ]
          },
          "metadata": {},
          "execution_count": 25
        }
      ]
    },
    {
      "cell_type": "code",
      "source": [
        "l2+\"sudh\""
      ],
      "metadata": {
        "colab": {
          "base_uri": "https://localhost:8080/",
          "height": 141
        },
        "id": "R1K8Copft2-p",
        "outputId": "e974e6c0-5f96-4729-8658-7af75e4e8376"
      },
      "execution_count": null,
      "outputs": [
        {
          "output_type": "error",
          "ename": "TypeError",
          "evalue": "can only concatenate list (not \"str\") to list",
          "traceback": [
            "\u001b[0;31m---------------------------------------------------------------------------\u001b[0m",
            "\u001b[0;31mTypeError\u001b[0m                                 Traceback (most recent call last)",
            "\u001b[0;32m<ipython-input-26-16a053e5e616>\u001b[0m in \u001b[0;36m<cell line: 1>\u001b[0;34m()\u001b[0m\n\u001b[0;32m----> 1\u001b[0;31m \u001b[0ml2\u001b[0m\u001b[0;34m+\u001b[0m\u001b[0;34m\"sudh\"\u001b[0m\u001b[0;34m\u001b[0m\u001b[0;34m\u001b[0m\u001b[0m\n\u001b[0m",
            "\u001b[0;31mTypeError\u001b[0m: can only concatenate list (not \"str\") to list"
          ]
        }
      ]
    },
    {
      "cell_type": "code",
      "source": [
        "#so mean to say concatenate\n",
        "#only work if same dataframe"
      ],
      "metadata": {
        "id": "879jY2Ret_55"
      },
      "execution_count": null,
      "outputs": []
    },
    {
      "cell_type": "code",
      "source": [
        "l1+l2"
      ],
      "metadata": {
        "colab": {
          "base_uri": "https://localhost:8080/"
        },
        "id": "LpG4G3JDuHQV",
        "outputId": "86a748b8-6d2e-4008-b70a-d9d777620b7a"
      },
      "execution_count": null,
      "outputs": [
        {
          "output_type": "execute_result",
          "data": {
            "text/plain": [
              "[1,\n",
              " 2,\n",
              " 3,\n",
              " 4,\n",
              " 'Aditya',\n",
              " 3.34,\n",
              " True,\n",
              " [1, 2, 3],\n",
              " 3,\n",
              " 4,\n",
              " 5,\n",
              " 'pwskills',\n",
              " 'learn easily']"
            ]
          },
          "metadata": {},
          "execution_count": 27
        }
      ]
    },
    {
      "cell_type": "code",
      "source": [
        "l2*2 #Repeat same list"
      ],
      "metadata": {
        "colab": {
          "base_uri": "https://localhost:8080/"
        },
        "id": "ploqeQ8HuNHy",
        "outputId": "07e94863-20e8-4a99-c569-d83a46408bdd"
      },
      "execution_count": null,
      "outputs": [
        {
          "output_type": "execute_result",
          "data": {
            "text/plain": [
              "[3, 4, 5, 'pwskills', 'learn easily', 3, 4, 5, 'pwskills', 'learn easily']"
            ]
          },
          "metadata": {},
          "execution_count": 28
        }
      ]
    },
    {
      "cell_type": "code",
      "source": [
        "#Tuples"
      ],
      "metadata": {
        "id": "oPPFTVeyuQCO"
      },
      "execution_count": null,
      "outputs": []
    },
    {
      "cell_type": "code",
      "source": [
        "l2[0]=300"
      ],
      "metadata": {
        "id": "6kQyx_YQuafY"
      },
      "execution_count": null,
      "outputs": []
    },
    {
      "cell_type": "code",
      "source": [
        "l2"
      ],
      "metadata": {
        "colab": {
          "base_uri": "https://localhost:8080/"
        },
        "id": "a-ObwTshugjx",
        "outputId": "70718727-a74a-4510-cfc3-0a54ddfcdb9f"
      },
      "execution_count": null,
      "outputs": [
        {
          "output_type": "execute_result",
          "data": {
            "text/plain": [
              "[300, 4, 5, 'pwskills', 'learn easily']"
            ]
          },
          "metadata": {},
          "execution_count": 31
        }
      ]
    },
    {
      "cell_type": "code",
      "source": [
        "#Mutation we can do as well in list"
      ],
      "metadata": {
        "id": "reDGax8Wumht"
      },
      "execution_count": null,
      "outputs": []
    },
    {
      "cell_type": "code",
      "source": [
        "#if need to store a data where\n",
        "#no mutation allowed"
      ],
      "metadata": {
        "id": "OY_EuWnsusCi"
      },
      "execution_count": null,
      "outputs": []
    },
    {
      "cell_type": "code",
      "source": [
        "t=(1,2,3,4,\"Aditya\",3.34,True,[1,2,3])"
      ],
      "metadata": {
        "id": "PO-_uhHXuy3v"
      },
      "execution_count": null,
      "outputs": []
    },
    {
      "cell_type": "code",
      "source": [
        "type(t)"
      ],
      "metadata": {
        "colab": {
          "base_uri": "https://localhost:8080/"
        },
        "id": "NEa0SQARu4tA",
        "outputId": "f4c6918a-e3a6-40f1-ba3d-78a02b20539a"
      },
      "execution_count": null,
      "outputs": [
        {
          "output_type": "execute_result",
          "data": {
            "text/plain": [
              "tuple"
            ]
          },
          "metadata": {},
          "execution_count": 33
        }
      ]
    },
    {
      "cell_type": "code",
      "source": [
        "#indexing concept is same as list"
      ],
      "metadata": {
        "id": "CiMLiycnu70C"
      },
      "execution_count": null,
      "outputs": []
    },
    {
      "cell_type": "code",
      "source": [
        "t[-1]"
      ],
      "metadata": {
        "colab": {
          "base_uri": "https://localhost:8080/"
        },
        "id": "vWsl8RexvE-S",
        "outputId": "d80069c7-ae6d-4fbf-9c45-957a79ea78f7"
      },
      "execution_count": null,
      "outputs": [
        {
          "output_type": "execute_result",
          "data": {
            "text/plain": [
              "[1, 2, 3]"
            ]
          },
          "metadata": {},
          "execution_count": 35
        }
      ]
    },
    {
      "cell_type": "code",
      "source": [
        "t[0]"
      ],
      "metadata": {
        "colab": {
          "base_uri": "https://localhost:8080/"
        },
        "id": "uoQbmp4zvGC-",
        "outputId": "1c4383b3-3558-4f07-c3b5-e4782bfddedd"
      },
      "execution_count": null,
      "outputs": [
        {
          "output_type": "execute_result",
          "data": {
            "text/plain": [
              "1"
            ]
          },
          "metadata": {},
          "execution_count": 36
        }
      ]
    },
    {
      "cell_type": "code",
      "source": [
        "t"
      ],
      "metadata": {
        "colab": {
          "base_uri": "https://localhost:8080/"
        },
        "id": "3cq4EAFOvM7V",
        "outputId": "2894f3f6-4b45-40db-a482-eab7e1452cb9"
      },
      "execution_count": null,
      "outputs": [
        {
          "output_type": "execute_result",
          "data": {
            "text/plain": [
              "(1, 2, 3, 4, 'Aditya', 3.34, True, [1, 2, 3])"
            ]
          },
          "metadata": {},
          "execution_count": 37
        }
      ]
    },
    {
      "cell_type": "code",
      "source": [
        "t[0]=\"sudh\""
      ],
      "metadata": {
        "colab": {
          "base_uri": "https://localhost:8080/",
          "height": 141
        },
        "id": "njTSBXCkvUJl",
        "outputId": "39cab77d-53e9-4dcc-b2d4-043ce9dece24"
      },
      "execution_count": null,
      "outputs": [
        {
          "output_type": "error",
          "ename": "TypeError",
          "evalue": "'tuple' object does not support item assignment",
          "traceback": [
            "\u001b[0;31m---------------------------------------------------------------------------\u001b[0m",
            "\u001b[0;31mTypeError\u001b[0m                                 Traceback (most recent call last)",
            "\u001b[0;32m<ipython-input-38-384d3f1afc7e>\u001b[0m in \u001b[0;36m<cell line: 1>\u001b[0;34m()\u001b[0m\n\u001b[0;32m----> 1\u001b[0;31m \u001b[0mt\u001b[0m\u001b[0;34m[\u001b[0m\u001b[0;36m0\u001b[0m\u001b[0;34m]\u001b[0m\u001b[0;34m=\u001b[0m\u001b[0;34m\"sudh\"\u001b[0m\u001b[0;34m\u001b[0m\u001b[0;34m\u001b[0m\u001b[0m\n\u001b[0m",
            "\u001b[0;31mTypeError\u001b[0m: 'tuple' object does not support item assignment"
          ]
        }
      ]
    },
    {
      "cell_type": "code",
      "source": [
        "#So in tuple mutation not allowed"
      ],
      "metadata": {
        "id": "ZYxQLoMPvZfP"
      },
      "execution_count": null,
      "outputs": []
    },
    {
      "cell_type": "code",
      "source": [
        "t2=(1,2,3,4)"
      ],
      "metadata": {
        "id": "7LOPMgJ0ve3v"
      },
      "execution_count": null,
      "outputs": []
    },
    {
      "cell_type": "code",
      "source": [
        "t1+t2"
      ],
      "metadata": {
        "colab": {
          "base_uri": "https://localhost:8080/"
        },
        "id": "qdH9AEGtvvUY",
        "outputId": "e4a101c2-940d-4101-9663-c85be65d9081"
      },
      "execution_count": null,
      "outputs": [
        {
          "output_type": "execute_result",
          "data": {
            "text/plain": [
              "(1, 2, 3, 4, 1, 2, 3, 4)"
            ]
          },
          "metadata": {},
          "execution_count": 41
        }
      ]
    },
    {
      "cell_type": "code",
      "source": [
        "list(t)"
      ],
      "metadata": {
        "colab": {
          "base_uri": "https://localhost:8080/"
        },
        "id": "nxmuUpUCvy4g",
        "outputId": "371295e0-39a4-4137-feba-25f15b1f2d26"
      },
      "execution_count": null,
      "outputs": [
        {
          "output_type": "execute_result",
          "data": {
            "text/plain": [
              "[1, 2, 3, 4, 'Aditya', 3.34, True, [1, 2, 3]]"
            ]
          },
          "metadata": {},
          "execution_count": 42
        }
      ]
    },
    {
      "cell_type": "code",
      "source": [
        "#to convert tuple into list vice versa"
      ],
      "metadata": {
        "id": "umt8Civ3v6Ji"
      },
      "execution_count": null,
      "outputs": []
    },
    {
      "cell_type": "code",
      "source": [
        "tuple(l2)"
      ],
      "metadata": {
        "colab": {
          "base_uri": "https://localhost:8080/"
        },
        "id": "NRp0EWdZv-0G",
        "outputId": "d6059d38-261d-4cbc-9e2c-10a7feed85ba"
      },
      "execution_count": null,
      "outputs": [
        {
          "output_type": "execute_result",
          "data": {
            "text/plain": [
              "(300, 4, 5, 'pwskills', 'learn easily')"
            ]
          },
          "metadata": {},
          "execution_count": 43
        }
      ]
    },
    {
      "cell_type": "code",
      "source": [
        "len(t2)"
      ],
      "metadata": {
        "colab": {
          "base_uri": "https://localhost:8080/"
        },
        "id": "JlAdn2czwA_7",
        "outputId": "1ee10992-5d81-420f-8655-b664d36f5fd8"
      },
      "execution_count": null,
      "outputs": [
        {
          "output_type": "execute_result",
          "data": {
            "text/plain": [
              "4"
            ]
          },
          "metadata": {},
          "execution_count": 47
        }
      ]
    },
    {
      "cell_type": "code",
      "source": [
        "l1"
      ],
      "metadata": {
        "colab": {
          "base_uri": "https://localhost:8080/"
        },
        "id": "Hfs21SNqwGFJ",
        "outputId": "bacd70d1-8360-4f88-bc0a-d563a94d5d86"
      },
      "execution_count": null,
      "outputs": [
        {
          "output_type": "execute_result",
          "data": {
            "text/plain": [
              "[1, 2, 3, 4, 'Aditya', 3.34, True, [1, 2, 3]]"
            ]
          },
          "metadata": {},
          "execution_count": 48
        }
      ]
    },
    {
      "cell_type": "code",
      "source": [
        "len(l1)"
      ],
      "metadata": {
        "colab": {
          "base_uri": "https://localhost:8080/"
        },
        "id": "omKegjZ4wM7q",
        "outputId": "4abc441d-8a48-4663-f150-418e50cdca0c"
      },
      "execution_count": null,
      "outputs": [
        {
          "output_type": "execute_result",
          "data": {
            "text/plain": [
              "8"
            ]
          },
          "metadata": {},
          "execution_count": 49
        }
      ]
    },
    {
      "cell_type": "code",
      "source": [
        "#dictionary"
      ],
      "metadata": {
        "id": "Z7wP0QadwOXu"
      },
      "execution_count": null,
      "outputs": []
    },
    {
      "cell_type": "code",
      "source": [
        "s={}"
      ],
      "metadata": {
        "id": "Wv_Ht4-7w2zv"
      },
      "execution_count": null,
      "outputs": []
    },
    {
      "cell_type": "code",
      "source": [
        "type(s)"
      ],
      "metadata": {
        "colab": {
          "base_uri": "https://localhost:8080/"
        },
        "id": "5uViwZmhw5dU",
        "outputId": "8951b36a-ef8f-4467-b50f-9f156c317711"
      },
      "execution_count": null,
      "outputs": [
        {
          "output_type": "execute_result",
          "data": {
            "text/plain": [
              "dict"
            ]
          },
          "metadata": {},
          "execution_count": 51
        }
      ]
    },
    {
      "cell_type": "code",
      "source": [
        "s1={1,2,3,4}"
      ],
      "metadata": {
        "id": "4Fn0hymSw7KP"
      },
      "execution_count": null,
      "outputs": []
    },
    {
      "cell_type": "code",
      "source": [
        "type(s1)"
      ],
      "metadata": {
        "colab": {
          "base_uri": "https://localhost:8080/"
        },
        "id": "teTuMiJcxAPi",
        "outputId": "ff9fe632-9496-4e03-8517-7cb5d195e1c3"
      },
      "execution_count": null,
      "outputs": [
        {
          "output_type": "execute_result",
          "data": {
            "text/plain": [
              "set"
            ]
          },
          "metadata": {},
          "execution_count": 53
        }
      ]
    },
    {
      "cell_type": "code",
      "source": [
        "s1"
      ],
      "metadata": {
        "colab": {
          "base_uri": "https://localhost:8080/"
        },
        "id": "IAlvSAK_xCal",
        "outputId": "e467a377-a34a-4f13-d78c-edf2ccba10e6"
      },
      "execution_count": null,
      "outputs": [
        {
          "output_type": "execute_result",
          "data": {
            "text/plain": [
              "{1, 2, 3, 4}"
            ]
          },
          "metadata": {},
          "execution_count": 54
        }
      ]
    },
    {
      "cell_type": "code",
      "source": [
        "#Set always try to remove duplicates rest same"
      ],
      "metadata": {
        "id": "V_1fcUa9xE5l"
      },
      "execution_count": null,
      "outputs": []
    },
    {
      "cell_type": "code",
      "source": [
        "s2={\"aditya\",\"aditya\",\"aditya\",1,2,3}"
      ],
      "metadata": {
        "id": "nKXDPjOLxL4P"
      },
      "execution_count": null,
      "outputs": []
    },
    {
      "cell_type": "code",
      "source": [
        "s2"
      ],
      "metadata": {
        "colab": {
          "base_uri": "https://localhost:8080/"
        },
        "id": "24jCTEyxxTqC",
        "outputId": "2edd39f7-eb7e-462a-851a-f7fdc65fba01"
      },
      "execution_count": null,
      "outputs": [
        {
          "output_type": "execute_result",
          "data": {
            "text/plain": [
              "{1, 2, 3, 'aditya'}"
            ]
          },
          "metadata": {},
          "execution_count": 58
        }
      ]
    },
    {
      "cell_type": "code",
      "source": [
        "#python is also case_semsitive"
      ],
      "metadata": {
        "id": "fiq8iWX6xUmo"
      },
      "execution_count": null,
      "outputs": []
    },
    {
      "cell_type": "code",
      "source": [
        "s3={\"aditya\",\"Aditya\",\"aditya\",1,2,3}"
      ],
      "metadata": {
        "id": "QfQIgMlexvbV"
      },
      "execution_count": null,
      "outputs": []
    },
    {
      "cell_type": "code",
      "source": [
        "s3"
      ],
      "metadata": {
        "colab": {
          "base_uri": "https://localhost:8080/"
        },
        "id": "0l7qqpGtxxZL",
        "outputId": "7c2f0367-759e-41a9-ee68-23e98a8f4f59"
      },
      "execution_count": null,
      "outputs": [
        {
          "output_type": "execute_result",
          "data": {
            "text/plain": [
              "{1, 2, 3, 'Aditya', 'aditya'}"
            ]
          },
          "metadata": {},
          "execution_count": 62
        }
      ]
    },
    {
      "cell_type": "code",
      "source": [
        "list(s3)"
      ],
      "metadata": {
        "colab": {
          "base_uri": "https://localhost:8080/"
        },
        "id": "uVEc2E6VxylV",
        "outputId": "1f915e0d-d003-4040-d787-35ad30ce151c"
      },
      "execution_count": null,
      "outputs": [
        {
          "output_type": "execute_result",
          "data": {
            "text/plain": [
              "['Aditya', 2, 3, 1, 'aditya']"
            ]
          },
          "metadata": {},
          "execution_count": 64
        }
      ]
    },
    {
      "cell_type": "code",
      "source": [
        "set(s3)"
      ],
      "metadata": {
        "colab": {
          "base_uri": "https://localhost:8080/"
        },
        "id": "yTAcc3aLyJzS",
        "outputId": "cc932191-dd57-477b-f0fa-ef06d756575c"
      },
      "execution_count": null,
      "outputs": [
        {
          "output_type": "execute_result",
          "data": {
            "text/plain": [
              "{1, 2, 3, 'Aditya', 'aditya'}"
            ]
          },
          "metadata": {},
          "execution_count": 65
        }
      ]
    },
    {
      "cell_type": "code",
      "source": [
        "#But if incase list under list\n",
        "#Then there will be error"
      ],
      "metadata": {
        "id": "wAinhAcyyOJH"
      },
      "execution_count": null,
      "outputs": []
    },
    {
      "cell_type": "code",
      "source": [
        "l4=[1,2,3,[1,2,4]]"
      ],
      "metadata": {
        "id": "-edIHY0myUNO"
      },
      "execution_count": null,
      "outputs": []
    },
    {
      "cell_type": "code",
      "source": [
        "set(l4)"
      ],
      "metadata": {
        "colab": {
          "base_uri": "https://localhost:8080/",
          "height": 141
        },
        "id": "SIyukvCZyb8g",
        "outputId": "300af731-613d-484d-9d5e-8b533de5f274"
      },
      "execution_count": null,
      "outputs": [
        {
          "output_type": "error",
          "ename": "TypeError",
          "evalue": "unhashable type: 'list'",
          "traceback": [
            "\u001b[0;31m---------------------------------------------------------------------------\u001b[0m",
            "\u001b[0;31mTypeError\u001b[0m                                 Traceback (most recent call last)",
            "\u001b[0;32m<ipython-input-67-908ac31367c9>\u001b[0m in \u001b[0;36m<cell line: 1>\u001b[0;34m()\u001b[0m\n\u001b[0;32m----> 1\u001b[0;31m \u001b[0mset\u001b[0m\u001b[0;34m(\u001b[0m\u001b[0ml4\u001b[0m\u001b[0;34m)\u001b[0m\u001b[0;34m\u001b[0m\u001b[0;34m\u001b[0m\u001b[0m\n\u001b[0m",
            "\u001b[0;31mTypeError\u001b[0m: unhashable type: 'list'"
          ]
        }
      ]
    },
    {
      "cell_type": "code",
      "source": [
        "# prompt: Why set not create if list under list\n",
        "\n",
        "# Sets in Python are collections of unique and unordered elements.\n",
        "# They cannot contain duplicate elements, and the order of elements is not preserved.\n",
        "\n",
        "# When you try to create a set from a list that contains another list,\n",
        "# the inner list is treated as a single element of the set.\n",
        "# This is because sets do not allow nested elements.\n",
        "\n",
        "# For example:\n",
        "l4 = [1, 2, 3, [1, 2, 4]]\n",
        "s4 = set(l4)\n",
        "print(s4)\n",
        "\n",
        "# Output:\n",
        "# {1, 2, 3, [1, 2, 4]}\n",
        "\n",
        "# As you can see, the inner list [1, 2, 4] is treated as a single element of the set.\n",
        "\n",
        "# If you want to create a set from a list that contains another list,\n",
        "# you need to flatten the list first.\n",
        "# This can be done using the following code:\n",
        "\n",
        "l4 = [1, 2, 3, [1, 2, 4]]\n",
        "flattened_list = [item for sublist in l4 for item in sublist]\n",
        "s4 = set(flattened_list)\n",
        "print(s4)\n",
        "\n",
        "# Output:\n",
        "# {1, 2, 3, 4}\n",
        "\n",
        "# Now, the set s4 contains all the elements of the original list,\n",
        "# including the elements of the inner list.\n"
      ],
      "metadata": {
        "id": "JcKLxiXTyga5"
      },
      "execution_count": null,
      "outputs": []
    },
    {
      "cell_type": "code",
      "source": [
        "tuple(s2)"
      ],
      "metadata": {
        "colab": {
          "base_uri": "https://localhost:8080/"
        },
        "id": "JUoAB_t0y0_S",
        "outputId": "d7a3863d-fe00-4bc7-ebcb-11738d4ebe24"
      },
      "execution_count": null,
      "outputs": [
        {
          "output_type": "execute_result",
          "data": {
            "text/plain": [
              "(1, 2, 3, 'aditya')"
            ]
          },
          "metadata": {},
          "execution_count": 68
        }
      ]
    },
    {
      "cell_type": "code",
      "source": [
        "s2"
      ],
      "metadata": {
        "colab": {
          "base_uri": "https://localhost:8080/"
        },
        "id": "kn23flPGzCD0",
        "outputId": "ac80c764-e435-4136-871d-a75a3d873d12"
      },
      "execution_count": null,
      "outputs": [
        {
          "output_type": "execute_result",
          "data": {
            "text/plain": [
              "{1, 2, 3, 'aditya'}"
            ]
          },
          "metadata": {},
          "execution_count": 69
        }
      ]
    },
    {
      "cell_type": "code",
      "source": [
        "s2[0]"
      ],
      "metadata": {
        "colab": {
          "base_uri": "https://localhost:8080/",
          "height": 141
        },
        "id": "F5qD6I_DzEFk",
        "outputId": "e9e632b9-9fce-4d24-babd-55a19597c666"
      },
      "execution_count": null,
      "outputs": [
        {
          "output_type": "error",
          "ename": "TypeError",
          "evalue": "'set' object is not subscriptable",
          "traceback": [
            "\u001b[0;31m---------------------------------------------------------------------------\u001b[0m",
            "\u001b[0;31mTypeError\u001b[0m                                 Traceback (most recent call last)",
            "\u001b[0;32m<ipython-input-70-ab7c8e26b0d3>\u001b[0m in \u001b[0;36m<cell line: 1>\u001b[0;34m()\u001b[0m\n\u001b[0;32m----> 1\u001b[0;31m \u001b[0ms2\u001b[0m\u001b[0;34m[\u001b[0m\u001b[0;36m0\u001b[0m\u001b[0;34m]\u001b[0m\u001b[0;34m\u001b[0m\u001b[0;34m\u001b[0m\u001b[0m\n\u001b[0m",
            "\u001b[0;31mTypeError\u001b[0m: 'set' object is not subscriptable"
          ]
        }
      ]
    },
    {
      "cell_type": "code",
      "source": [
        "#Indexing not allowed right?"
      ],
      "metadata": {
        "id": "G6MSf14jzKSO"
      },
      "execution_count": null,
      "outputs": []
    },
    {
      "cell_type": "code",
      "source": [
        "#So for tht convert first in list"
      ],
      "metadata": {
        "id": "AMUyjYqvzOIw"
      },
      "execution_count": null,
      "outputs": []
    },
    {
      "cell_type": "code",
      "source": [
        "list(s2)"
      ],
      "metadata": {
        "colab": {
          "base_uri": "https://localhost:8080/"
        },
        "id": "G7JA6nDOzSQZ",
        "outputId": "f731a97b-2719-4295-b95f-c47c03206b87"
      },
      "execution_count": null,
      "outputs": [
        {
          "output_type": "execute_result",
          "data": {
            "text/plain": [
              "[1, 2, 3, 'aditya']"
            ]
          },
          "metadata": {},
          "execution_count": 71
        }
      ]
    },
    {
      "cell_type": "code",
      "source": [
        "#Dictionary>>>>"
      ],
      "metadata": {
        "id": "Rn8uoJfazT5h"
      },
      "execution_count": null,
      "outputs": []
    },
    {
      "cell_type": "code",
      "source": [
        "d={}"
      ],
      "metadata": {
        "id": "hd6-aZVP2OEH"
      },
      "execution_count": null,
      "outputs": []
    },
    {
      "cell_type": "code",
      "source": [
        "type(d)"
      ],
      "metadata": {
        "id": "8TEtdNAw267V",
        "outputId": "291a4444-8ceb-41ca-85b8-000f3206be6b",
        "colab": {
          "base_uri": "https://localhost:8080/"
        }
      },
      "execution_count": null,
      "outputs": [
        {
          "output_type": "execute_result",
          "data": {
            "text/plain": [
              "dict"
            ]
          },
          "metadata": {},
          "execution_count": 82
        }
      ]
    },
    {
      "cell_type": "code",
      "source": [
        "d1={'name':\"sudhanshu\",\"subject\":[\"maths\",\"science\"],'number':4564654}"
      ],
      "metadata": {
        "id": "kSDPTZMY28Mm"
      },
      "execution_count": null,
      "outputs": []
    },
    {
      "cell_type": "code",
      "source": [
        "d1"
      ],
      "metadata": {
        "id": "SjMMuDyQ3EvD",
        "outputId": "28712ae4-484c-4644-a3ea-752dde0b96da",
        "colab": {
          "base_uri": "https://localhost:8080/"
        }
      },
      "execution_count": null,
      "outputs": [
        {
          "output_type": "execute_result",
          "data": {
            "text/plain": [
              "{'name': 'sudhanshu', 'subject': ['maths', 'science'], 'number': 4564654}"
            ]
          },
          "metadata": {},
          "execution_count": 84
        }
      ]
    },
    {
      "cell_type": "code",
      "source": [
        "d2={\"name\":\"sudh\",\"name\":\"pwskills\"}"
      ],
      "metadata": {
        "id": "dS7GyPBZ3niZ"
      },
      "execution_count": null,
      "outputs": []
    },
    {
      "cell_type": "code",
      "source": [
        "d2"
      ],
      "metadata": {
        "id": "8Pf3FCmz39CF",
        "outputId": "4bbb4343-fb40-44d8-e965-cef96897aeed",
        "colab": {
          "base_uri": "https://localhost:8080/"
        }
      },
      "execution_count": null,
      "outputs": [
        {
          "output_type": "execute_result",
          "data": {
            "text/plain": [
              "{'name': 'pwskills'}"
            ]
          },
          "metadata": {},
          "execution_count": 86
        }
      ]
    },
    {
      "cell_type": "code",
      "source": [
        "d2"
      ],
      "metadata": {
        "id": "K6nKzLTh396s",
        "outputId": "ff19059d-e0b3-4276-e5a4-038cd7293357",
        "colab": {
          "base_uri": "https://localhost:8080/"
        }
      },
      "execution_count": null,
      "outputs": [
        {
          "output_type": "execute_result",
          "data": {
            "text/plain": [
              "{'name': 'pwskills'}"
            ]
          },
          "metadata": {},
          "execution_count": 87
        }
      ]
    },
    {
      "cell_type": "code",
      "source": [
        "#key should be unique otherwise override"
      ],
      "metadata": {
        "id": "4eiSkqzl4Pzj"
      },
      "execution_count": null,
      "outputs": []
    },
    {
      "cell_type": "code",
      "source": [
        "d3={1322156,\"name\"}"
      ],
      "metadata": {
        "id": "_O5wfBVi4tS-"
      },
      "execution_count": null,
      "outputs": []
    },
    {
      "cell_type": "code",
      "source": [
        "d3"
      ],
      "metadata": {
        "id": "W2pEZ4rM45WY",
        "outputId": "fc4076ff-923d-4819-b42e-6cc0519f08a1",
        "colab": {
          "base_uri": "https://localhost:8080/"
        }
      },
      "execution_count": null,
      "outputs": [
        {
          "output_type": "execute_result",
          "data": {
            "text/plain": [
              "{1322156, 'name'}"
            ]
          },
          "metadata": {},
          "execution_count": 89
        }
      ]
    },
    {
      "cell_type": "code",
      "source": [
        "d3={(1,3,2,1,6):\"india\"}"
      ],
      "metadata": {
        "id": "SudMyivV47B3"
      },
      "execution_count": null,
      "outputs": []
    },
    {
      "cell_type": "code",
      "source": [
        "#mean to say cant store list under dict\n",
        "#Set also cant usable here\n",
        "#As we seen tuples allowed"
      ],
      "metadata": {
        "id": "tudeM3li5K1i"
      },
      "execution_count": null,
      "outputs": []
    },
    {
      "cell_type": "code",
      "source": [
        "d4 = {'course':['dsa','java','webdev','blockchain','cloud'],'mentor':('abba','jabba','dabba','aditya','deepa'),\n",
        "'price':{3500,4500,5500,6000,12000},'duration':1,'access year':1}\n"
      ],
      "metadata": {
        "id": "ThqsTA5M5Py7"
      },
      "execution_count": null,
      "outputs": []
    },
    {
      "cell_type": "code",
      "source": [
        "d4"
      ],
      "metadata": {
        "id": "Ey-FOazECHky",
        "outputId": "9d4b726f-111e-4b62-b5c1-438afd4eb452",
        "colab": {
          "base_uri": "https://localhost:8080/"
        }
      },
      "execution_count": null,
      "outputs": [
        {
          "output_type": "execute_result",
          "data": {
            "text/plain": [
              "{'course': ['dsa', 'java', 'webdev', 'blockchain', 'cloud'],\n",
              " 'mentor': ('abba', 'jabba', 'dabba', 'aditya', 'deepa'),\n",
              " 'price': {3500, 4500, 5500, 6000, 12000},\n",
              " 'duration': 1,\n",
              " 'access year': 1}"
            ]
          },
          "metadata": {},
          "execution_count": 97
        }
      ]
    },
    {
      "cell_type": "code",
      "source": [
        "#Value can be duplicate not Key"
      ],
      "metadata": {
        "id": "BGZWtNLZCJMy"
      },
      "execution_count": null,
      "outputs": []
    },
    {
      "cell_type": "code",
      "source": [
        "#How to Extract Data from Dictionary"
      ],
      "metadata": {
        "id": "9rcyFCUIHdYv"
      },
      "execution_count": null,
      "outputs": []
    },
    {
      "cell_type": "code",
      "source": [
        "d4['course']"
      ],
      "metadata": {
        "id": "GT00ccpOHiJ2",
        "outputId": "ddff8e42-c650-498f-aa19-6a016ae06f49",
        "colab": {
          "base_uri": "https://localhost:8080/"
        }
      },
      "execution_count": null,
      "outputs": [
        {
          "output_type": "execute_result",
          "data": {
            "text/plain": [
              "['dsa', 'java', 'webdev', 'blockchain', 'cloud']"
            ]
          },
          "metadata": {},
          "execution_count": 98
        }
      ]
    },
    {
      "cell_type": "code",
      "source": [
        "d4['mentor']"
      ],
      "metadata": {
        "id": "Dm-NCnMKHkRF",
        "outputId": "691a87ac-1f5e-429e-99d9-af0221a6634c",
        "colab": {
          "base_uri": "https://localhost:8080/"
        }
      },
      "execution_count": null,
      "outputs": [
        {
          "output_type": "execute_result",
          "data": {
            "text/plain": [
              "('abba', 'jabba', 'dabba', 'aditya', 'deepa')"
            ]
          },
          "metadata": {},
          "execution_count": 99
        }
      ]
    },
    {
      "cell_type": "code",
      "source": [
        "d4['mentor']"
      ],
      "metadata": {
        "id": "nGbOypQFHnxw",
        "outputId": "18afe8c2-8c23-4e76-d444-73a49b614fb4",
        "colab": {
          "base_uri": "https://localhost:8080/"
        }
      },
      "execution_count": null,
      "outputs": [
        {
          "output_type": "execute_result",
          "data": {
            "text/plain": [
              "('abba', 'jabba', 'dabba', 'aditya', 'deepa')"
            ]
          },
          "metadata": {},
          "execution_count": 100
        }
      ]
    },
    {
      "cell_type": "code",
      "source": [
        "d4['price']"
      ],
      "metadata": {
        "id": "d-0BYx2rHsyQ",
        "outputId": "d44033c2-5240-49da-8659-621f1c31e6f4",
        "colab": {
          "base_uri": "https://localhost:8080/"
        }
      },
      "execution_count": null,
      "outputs": [
        {
          "output_type": "execute_result",
          "data": {
            "text/plain": [
              "{3500, 4500, 5500, 6000, 12000}"
            ]
          },
          "metadata": {},
          "execution_count": 101
        }
      ]
    },
    {
      "cell_type": "code",
      "source": [
        "#tHANKYOU bYE BYE fOLLOW fOR mORE"
      ],
      "metadata": {
        "id": "2iqgkDJ4HvDB"
      },
      "execution_count": null,
      "outputs": []
    },
    {
      "cell_type": "code",
      "source": [
        "#To check all Inbuilt Fucntion\n",
        "#after storing s1 in next row if\n",
        "#press s1. will show inbuilt function"
      ],
      "metadata": {
        "id": "XZJN6qbwH7qU"
      },
      "execution_count": null,
      "outputs": []
    },
    {
      "cell_type": "code",
      "source": [
        "s1=\"Adityatechinsights\""
      ],
      "metadata": {
        "id": "qsxLNfffRERd"
      },
      "execution_count": 16,
      "outputs": []
    },
    {
      "cell_type": "code",
      "source": [
        "s1.count('t')"
      ],
      "metadata": {
        "id": "aoD0spvrRJJ-",
        "outputId": "a0dae07d-54ee-47c0-b7e8-a0e070f6358b",
        "colab": {
          "base_uri": "https://localhost:8080/"
        }
      },
      "execution_count": 17,
      "outputs": [
        {
          "output_type": "execute_result",
          "data": {
            "text/plain": [
              "3"
            ]
          },
          "metadata": {},
          "execution_count": 17
        }
      ]
    },
    {
      "cell_type": "code",
      "source": [
        "s1.find(\"t\") #index of first occurence"
      ],
      "metadata": {
        "id": "8Vd1FSoyRgwh",
        "outputId": "0ddc21a1-9b75-4f01-ad08-15057add2665",
        "colab": {
          "base_uri": "https://localhost:8080/"
        }
      },
      "execution_count": 18,
      "outputs": [
        {
          "output_type": "execute_result",
          "data": {
            "text/plain": [
              "3"
            ]
          },
          "metadata": {},
          "execution_count": 18
        }
      ]
    },
    {
      "cell_type": "code",
      "source": [
        "s1.index('t') #First occurence of t index"
      ],
      "metadata": {
        "id": "SABknSvEUgjv",
        "outputId": "e7ae95ae-24c1-4063-d7be-c0fe937b76c2",
        "colab": {
          "base_uri": "https://localhost:8080/"
        }
      },
      "execution_count": 19,
      "outputs": [
        {
          "output_type": "execute_result",
          "data": {
            "text/plain": [
              "3"
            ]
          },
          "metadata": {},
          "execution_count": 19
        }
      ]
    },
    {
      "cell_type": "code",
      "source": [
        "s1.find('z')#if not found give -1 as result"
      ],
      "metadata": {
        "id": "-eJhqYnSU9Nh",
        "outputId": "f86c5584-cf96-4c9d-b335-dc7b98e2cf8a",
        "colab": {
          "base_uri": "https://localhost:8080/"
        }
      },
      "execution_count": 20,
      "outputs": [
        {
          "output_type": "execute_result",
          "data": {
            "text/plain": [
              "-1"
            ]
          },
          "metadata": {},
          "execution_count": 20
        }
      ]
    },
    {
      "cell_type": "code",
      "source": [
        "s1.index(\"z\")#give error if data not avaialable"
      ],
      "metadata": {
        "id": "GYscR5mAVL8U",
        "outputId": "be5dc974-a90b-4bf5-823d-a0eafbbbc34e",
        "colab": {
          "base_uri": "https://localhost:8080/",
          "height": 141
        }
      },
      "execution_count": 21,
      "outputs": [
        {
          "output_type": "error",
          "ename": "ValueError",
          "evalue": "substring not found",
          "traceback": [
            "\u001b[0;31m---------------------------------------------------------------------------\u001b[0m",
            "\u001b[0;31mValueError\u001b[0m                                Traceback (most recent call last)",
            "\u001b[0;32m<ipython-input-21-4e8b55bf88d2>\u001b[0m in \u001b[0;36m<cell line: 1>\u001b[0;34m()\u001b[0m\n\u001b[0;32m----> 1\u001b[0;31m \u001b[0ms1\u001b[0m\u001b[0;34m.\u001b[0m\u001b[0mindex\u001b[0m\u001b[0;34m(\u001b[0m\u001b[0;34m\"z\"\u001b[0m\u001b[0;34m)\u001b[0m\u001b[0;31m#give error if data not avaialable\u001b[0m\u001b[0;34m\u001b[0m\u001b[0;34m\u001b[0m\u001b[0m\n\u001b[0m",
            "\u001b[0;31mValueError\u001b[0m: substring not found"
          ]
        }
      ]
    },
    {
      "cell_type": "code",
      "source": [
        "s1.upper()"
      ],
      "metadata": {
        "id": "S82cRHvJVQYq",
        "outputId": "23fb6f02-6dc7-481a-8c48-e56c6f5f5706",
        "colab": {
          "base_uri": "https://localhost:8080/",
          "height": 36
        }
      },
      "execution_count": 22,
      "outputs": [
        {
          "output_type": "execute_result",
          "data": {
            "text/plain": [
              "'ADITYATECHINSIGHTS'"
            ],
            "application/vnd.google.colaboratory.intrinsic+json": {
              "type": "string"
            }
          },
          "metadata": {},
          "execution_count": 22
        }
      ]
    },
    {
      "cell_type": "code",
      "source": [
        "s1.lower()"
      ],
      "metadata": {
        "id": "p-anG4NFVvEn",
        "outputId": "1fad3afe-e8a2-4ef9-8b63-5c0399cc6265",
        "colab": {
          "base_uri": "https://localhost:8080/",
          "height": 36
        }
      },
      "execution_count": 23,
      "outputs": [
        {
          "output_type": "execute_result",
          "data": {
            "text/plain": [
              "'adityatechinsights'"
            ],
            "application/vnd.google.colaboratory.intrinsic+json": {
              "type": "string"
            }
          },
          "metadata": {},
          "execution_count": 23
        }
      ]
    },
    {
      "cell_type": "code",
      "source": [
        "s1.title()"
      ],
      "metadata": {
        "id": "Nbx-96IBVxd8",
        "outputId": "247e4aec-2e61-4829-ef90-96bf9b3e5d85",
        "colab": {
          "base_uri": "https://localhost:8080/",
          "height": 36
        }
      },
      "execution_count": 24,
      "outputs": [
        {
          "output_type": "execute_result",
          "data": {
            "text/plain": [
              "'Adityatechinsights'"
            ],
            "application/vnd.google.colaboratory.intrinsic+json": {
              "type": "string"
            }
          },
          "metadata": {},
          "execution_count": 24
        }
      ]
    },
    {
      "cell_type": "code",
      "source": [
        "s2=\"my name is aditya singh rajput\""
      ],
      "metadata": {
        "id": "ZHU3deVmVz4s"
      },
      "execution_count": 25,
      "outputs": []
    },
    {
      "cell_type": "code",
      "source": [
        "s2.title()"
      ],
      "metadata": {
        "id": "4RHdn_JxV8_l",
        "outputId": "112f6484-d909-4d2a-c375-6599262ad315",
        "colab": {
          "base_uri": "https://localhost:8080/",
          "height": 36
        }
      },
      "execution_count": 26,
      "outputs": [
        {
          "output_type": "execute_result",
          "data": {
            "text/plain": [
              "'My Name Is Aditya Singh Rajput'"
            ],
            "application/vnd.google.colaboratory.intrinsic+json": {
              "type": "string"
            }
          },
          "metadata": {},
          "execution_count": 26
        }
      ]
    },
    {
      "cell_type": "code",
      "source": [
        "s2.split() #Always try to returnn lIST"
      ],
      "metadata": {
        "id": "LH7s-u6cV-VG",
        "outputId": "0e290baf-4fdc-4d39-ce71-2bf73fa32ebc",
        "colab": {
          "base_uri": "https://localhost:8080/"
        }
      },
      "execution_count": 27,
      "outputs": [
        {
          "output_type": "execute_result",
          "data": {
            "text/plain": [
              "['my', 'name', 'is', 'aditya', 'singh', 'rajput']"
            ]
          },
          "metadata": {},
          "execution_count": 27
        }
      ]
    },
    {
      "cell_type": "code",
      "source": [
        "S3=\"my name,is Aditya,Singh \""
      ],
      "metadata": {
        "id": "Gbhiq72SjAtq"
      },
      "execution_count": 28,
      "outputs": []
    },
    {
      "cell_type": "code",
      "source": [
        "S3.split()"
      ],
      "metadata": {
        "id": "KotVA8VujWA8",
        "outputId": "38971472-ad65-442d-eb64-15fe7e498470",
        "colab": {
          "base_uri": "https://localhost:8080/"
        }
      },
      "execution_count": 30,
      "outputs": [
        {
          "output_type": "execute_result",
          "data": {
            "text/plain": [
              "['my', 'name,is', 'Aditya,Singh']"
            ]
          },
          "metadata": {},
          "execution_count": 30
        }
      ]
    },
    {
      "cell_type": "code",
      "source": [
        "S3.split(',')"
      ],
      "metadata": {
        "id": "akUik97yjY9D",
        "outputId": "c120f126-7f31-47f3-9c58-12fdf0d39eb9",
        "colab": {
          "base_uri": "https://localhost:8080/"
        }
      },
      "execution_count": 31,
      "outputs": [
        {
          "output_type": "execute_result",
          "data": {
            "text/plain": [
              "['my name', 'is Aditya', 'Singh ']"
            ]
          },
          "metadata": {},
          "execution_count": 31
        }
      ]
    },
    {
      "cell_type": "code",
      "source": [
        "s4=\"this is my python class . i am attending this class for 4th time\""
      ],
      "metadata": {
        "id": "Hrg_Ur3ejsP9"
      },
      "execution_count": 35,
      "outputs": []
    },
    {
      "cell_type": "code",
      "source": [
        "s4.split('.')"
      ],
      "metadata": {
        "id": "wNwE-m4ykDJI",
        "outputId": "5ecf3ca7-7a77-4449-fef1-6f271ff3763f",
        "colab": {
          "base_uri": "https://localhost:8080/"
        }
      },
      "execution_count": 38,
      "outputs": [
        {
          "output_type": "execute_result",
          "data": {
            "text/plain": [
              "['this is my python class ', ' i am attending this class for 4th time']"
            ]
          },
          "metadata": {},
          "execution_count": 38
        }
      ]
    },
    {
      "cell_type": "code",
      "source": [
        "s4.split('.')[0]"
      ],
      "metadata": {
        "id": "Lf2rzyS1kL2n",
        "outputId": "be452bf8-851a-4ba9-b280-e3ff8ff41ef6",
        "colab": {
          "base_uri": "https://localhost:8080/",
          "height": 36
        }
      },
      "execution_count": 40,
      "outputs": [
        {
          "output_type": "execute_result",
          "data": {
            "text/plain": [
              "'this is my python class '"
            ],
            "application/vnd.google.colaboratory.intrinsic+json": {
              "type": "string"
            }
          },
          "metadata": {},
          "execution_count": 40
        }
      ]
    },
    {
      "cell_type": "code",
      "source": [
        "s4.split('.')[-1]"
      ],
      "metadata": {
        "id": "T4m3qmgSkW5Y",
        "outputId": "ebf522ac-36be-4c28-e240-f6284655a238",
        "colab": {
          "base_uri": "https://localhost:8080/",
          "height": 36
        }
      },
      "execution_count": 41,
      "outputs": [
        {
          "output_type": "execute_result",
          "data": {
            "text/plain": [
              "' i am attending this class for 4th time'"
            ],
            "application/vnd.google.colaboratory.intrinsic+json": {
              "type": "string"
            }
          },
          "metadata": {},
          "execution_count": 41
        }
      ]
    },
    {
      "cell_type": "code",
      "source": [
        "#Will meet in Next video Session Bye"
      ],
      "metadata": {
        "id": "Nv6KzaivknZj"
      },
      "execution_count": null,
      "outputs": []
    },
    {
      "cell_type": "code",
      "source": [
        "s1.capitalize()"
      ],
      "metadata": {
        "id": "J8eu-jwEkxqw",
        "outputId": "7b99b53f-f1c7-4867-c52f-cb6a9df50472",
        "colab": {
          "base_uri": "https://localhost:8080/",
          "height": 36
        }
      },
      "execution_count": 42,
      "outputs": [
        {
          "output_type": "execute_result",
          "data": {
            "text/plain": [
              "'Adityatechinsights'"
            ],
            "application/vnd.google.colaboratory.intrinsic+json": {
              "type": "string"
            }
          },
          "metadata": {},
          "execution_count": 42
        }
      ]
    },
    {
      "cell_type": "code",
      "source": [
        "s2.capitalize()"
      ],
      "metadata": {
        "id": "wYBBSQ6jk1O9",
        "outputId": "f6c83975-e5f3-45da-bc0b-ad6b07de9690",
        "colab": {
          "base_uri": "https://localhost:8080/",
          "height": 36
        }
      },
      "execution_count": 43,
      "outputs": [
        {
          "output_type": "execute_result",
          "data": {
            "text/plain": [
              "'My name is aditya singh rajput'"
            ],
            "application/vnd.google.colaboratory.intrinsic+json": {
              "type": "string"
            }
          },
          "metadata": {},
          "execution_count": 43
        }
      ]
    },
    {
      "cell_type": "code",
      "source": [
        "#title applied on each word but\n",
        "#Capt. only first word of sentence"
      ],
      "metadata": {
        "id": "TPO17I-Wk4gX"
      },
      "execution_count": null,
      "outputs": []
    },
    {
      "cell_type": "code",
      "source": [
        "s1.replace('t','u')"
      ],
      "metadata": {
        "id": "vriKPKEklB_f",
        "outputId": "69c0b8b3-f89f-4caf-9323-dfe9df4bcbcf",
        "colab": {
          "base_uri": "https://localhost:8080/",
          "height": 36
        }
      },
      "execution_count": 44,
      "outputs": [
        {
          "output_type": "execute_result",
          "data": {
            "text/plain": [
              "'Adiuyauechinsighus'"
            ],
            "application/vnd.google.colaboratory.intrinsic+json": {
              "type": "string"
            }
          },
          "metadata": {},
          "execution_count": 44
        }
      ]
    },
    {
      "cell_type": "code",
      "source": [
        "#String is immutable but how replace working?"
      ],
      "metadata": {
        "id": "5QXoRQHAloys"
      },
      "execution_count": null,
      "outputs": []
    },
    {
      "cell_type": "code",
      "source": [
        "s1"
      ],
      "metadata": {
        "id": "A9IYsmSbl4m-",
        "outputId": "2e9b120c-bbd4-4309-caef-0c3ca8aa33ba",
        "colab": {
          "base_uri": "https://localhost:8080/",
          "height": 36
        }
      },
      "execution_count": 45,
      "outputs": [
        {
          "output_type": "execute_result",
          "data": {
            "text/plain": [
              "'Adityatechinsights'"
            ],
            "application/vnd.google.colaboratory.intrinsic+json": {
              "type": "string"
            }
          },
          "metadata": {},
          "execution_count": 45
        }
      ]
    },
    {
      "cell_type": "code",
      "source": [
        "#NEW Variable only creating so still Immuntable"
      ],
      "metadata": {
        "id": "Y8SW-zffoqeF"
      },
      "execution_count": null,
      "outputs": []
    },
    {
      "cell_type": "code",
      "source": [
        "s1.center(40,'f')"
      ],
      "metadata": {
        "id": "AdXVOK5Roy-8",
        "outputId": "18e6e066-480a-4347-a69a-82798d4c4cdd",
        "colab": {
          "base_uri": "https://localhost:8080/",
          "height": 36
        }
      },
      "execution_count": 48,
      "outputs": [
        {
          "output_type": "execute_result",
          "data": {
            "text/plain": [
              "'fffffffffffAdityatechinsightsfffffffffff'"
            ],
            "application/vnd.google.colaboratory.intrinsic+json": {
              "type": "string"
            }
          },
          "metadata": {},
          "execution_count": 48
        }
      ]
    },
    {
      "cell_type": "code",
      "source": [
        "#simply center the string and rest fill with filler\n",
        "#Lets meet in next video for next concept"
      ],
      "metadata": {
        "id": "W6JC00XIpFY-"
      },
      "execution_count": null,
      "outputs": []
    },
    {
      "cell_type": "code",
      "source": [
        "s1.rstrip()"
      ],
      "metadata": {
        "id": "HV68VybbpdS_",
        "outputId": "58a25fc8-70df-49aa-bc7e-19a5ded9fe34",
        "colab": {
          "base_uri": "https://localhost:8080/",
          "height": 36
        }
      },
      "execution_count": 49,
      "outputs": [
        {
          "output_type": "execute_result",
          "data": {
            "text/plain": [
              "'Adityatechinsights'"
            ],
            "application/vnd.google.colaboratory.intrinsic+json": {
              "type": "string"
            }
          },
          "metadata": {},
          "execution_count": 49
        }
      ]
    },
    {
      "cell_type": "code",
      "source": [
        "s5=\"          aditya  \""
      ],
      "metadata": {
        "id": "MjRZtZRwqacC"
      },
      "execution_count": 52,
      "outputs": []
    },
    {
      "cell_type": "code",
      "source": [
        "s5.rstrip()#removing right side spaces"
      ],
      "metadata": {
        "id": "unJ6OCRCqf-A",
        "outputId": "307ba8a9-d2d2-412a-a817-18ac73f8f538",
        "colab": {
          "base_uri": "https://localhost:8080/",
          "height": 36
        }
      },
      "execution_count": 53,
      "outputs": [
        {
          "output_type": "execute_result",
          "data": {
            "text/plain": [
              "'          aditya'"
            ],
            "application/vnd.google.colaboratory.intrinsic+json": {
              "type": "string"
            }
          },
          "metadata": {},
          "execution_count": 53
        }
      ]
    },
    {
      "cell_type": "code",
      "source": [
        "s5.lstrip()#left space remove"
      ],
      "metadata": {
        "id": "t1JR3pqeqioZ",
        "outputId": "bf233c95-1b65-4e62-bc42-b84ff05fe07f",
        "colab": {
          "base_uri": "https://localhost:8080/",
          "height": 36
        }
      },
      "execution_count": 54,
      "outputs": [
        {
          "output_type": "execute_result",
          "data": {
            "text/plain": [
              "'aditya  '"
            ],
            "application/vnd.google.colaboratory.intrinsic+json": {
              "type": "string"
            }
          },
          "metadata": {},
          "execution_count": 54
        }
      ]
    },
    {
      "cell_type": "code",
      "source": [
        "s5.strip()#all space remove"
      ],
      "metadata": {
        "id": "LtbsBJ9-qxKp",
        "outputId": "09224cb4-fae4-4af7-e73d-2875b82d77a5",
        "colab": {
          "base_uri": "https://localhost:8080/",
          "height": 36
        }
      },
      "execution_count": 55,
      "outputs": [
        {
          "output_type": "execute_result",
          "data": {
            "text/plain": [
              "'aditya'"
            ],
            "application/vnd.google.colaboratory.intrinsic+json": {
              "type": "string"
            }
          },
          "metadata": {},
          "execution_count": 55
        }
      ]
    },
    {
      "cell_type": "code",
      "source": [
        "s1"
      ],
      "metadata": {
        "id": "MQqPHgZxqzti",
        "outputId": "3fa33654-aaf7-43de-d6e7-95318b5b79b5",
        "colab": {
          "base_uri": "https://localhost:8080/",
          "height": 36
        }
      },
      "execution_count": 56,
      "outputs": [
        {
          "output_type": "execute_result",
          "data": {
            "text/plain": [
              "'Adityatechinsights'"
            ],
            "application/vnd.google.colaboratory.intrinsic+json": {
              "type": "string"
            }
          },
          "metadata": {},
          "execution_count": 56
        }
      ]
    },
    {
      "cell_type": "code",
      "source": [
        "s1.isalnum()"
      ],
      "metadata": {
        "id": "K1nWtD8Nq-K5",
        "outputId": "d49a0381-d0ae-4074-c32d-c6f64a52be33",
        "colab": {
          "base_uri": "https://localhost:8080/"
        }
      },
      "execution_count": 57,
      "outputs": [
        {
          "output_type": "execute_result",
          "data": {
            "text/plain": [
              "True"
            ]
          },
          "metadata": {},
          "execution_count": 57
        }
      ]
    },
    {
      "cell_type": "code",
      "source": [
        "s1.isalpha()"
      ],
      "metadata": {
        "id": "WVO_fcznrC3C",
        "outputId": "da60951c-54a3-4511-d31c-06eef31db502",
        "colab": {
          "base_uri": "https://localhost:8080/"
        }
      },
      "execution_count": 58,
      "outputs": [
        {
          "output_type": "execute_result",
          "data": {
            "text/plain": [
              "True"
            ]
          },
          "metadata": {},
          "execution_count": 58
        }
      ]
    },
    {
      "cell_type": "code",
      "source": [
        "s1.isnumeric()"
      ],
      "metadata": {
        "id": "jJj5qmV1rJXe",
        "outputId": "bcc5f8c8-26ce-46e8-fe0d-1baadacab1f3",
        "colab": {
          "base_uri": "https://localhost:8080/"
        }
      },
      "execution_count": 59,
      "outputs": [
        {
          "output_type": "execute_result",
          "data": {
            "text/plain": [
              "False"
            ]
          },
          "metadata": {},
          "execution_count": 59
        }
      ]
    },
    {
      "cell_type": "code",
      "source": [
        "#so is function will give true false as result"
      ],
      "metadata": {
        "id": "Y1SIacUrrNbs"
      },
      "execution_count": null,
      "outputs": []
    },
    {
      "cell_type": "code",
      "source": [
        "s1.islower()"
      ],
      "metadata": {
        "id": "YomvzXMyrTgP",
        "outputId": "6ac0b353-bed3-4af3-f380-127556f2ef78",
        "colab": {
          "base_uri": "https://localhost:8080/"
        }
      },
      "execution_count": 60,
      "outputs": [
        {
          "output_type": "execute_result",
          "data": {
            "text/plain": [
              "False"
            ]
          },
          "metadata": {},
          "execution_count": 60
        }
      ]
    },
    {
      "cell_type": "code",
      "source": [
        "#Thankyou lets meet in next video"
      ],
      "metadata": {
        "id": "bfgwL-wVrk__"
      },
      "execution_count": null,
      "outputs": []
    },
    {
      "cell_type": "code",
      "source": [
        "l1=[[1,2,3,4,5],\"Aditya\",3.5,True]"
      ],
      "metadata": {
        "id": "-VFnTj8WrsGp"
      },
      "execution_count": 64,
      "outputs": []
    },
    {
      "cell_type": "code",
      "source": [
        "l1"
      ],
      "metadata": {
        "id": "mXyVcE0msA4F",
        "outputId": "42c2ae4b-58a9-4fd4-8c13-98e024094340",
        "colab": {
          "base_uri": "https://localhost:8080/"
        }
      },
      "execution_count": 66,
      "outputs": [
        {
          "output_type": "execute_result",
          "data": {
            "text/plain": [
              "[[1, 2, 3, 4, 5], 'Aditya', 3.5, True]"
            ]
          },
          "metadata": {},
          "execution_count": 66
        }
      ]
    },
    {
      "cell_type": "code",
      "source": [
        "l1.append(\"Rohit Sharma\")"
      ],
      "metadata": {
        "id": "Q63FeOARsgtY"
      },
      "execution_count": 67,
      "outputs": []
    },
    {
      "cell_type": "code",
      "source": [
        "l1"
      ],
      "metadata": {
        "id": "E10dJxSNu7r_",
        "outputId": "1814dc42-ed38-4a85-8ab1-af8e42a23fcb",
        "colab": {
          "base_uri": "https://localhost:8080/"
        }
      },
      "execution_count": 68,
      "outputs": [
        {
          "output_type": "execute_result",
          "data": {
            "text/plain": [
              "[[1, 2, 3, 4, 5], 'Aditya', 3.5, True, 'Rohit Sharma']"
            ]
          },
          "metadata": {},
          "execution_count": 68
        }
      ]
    },
    {
      "cell_type": "code",
      "source": [
        "#By default add data in last of list"
      ],
      "metadata": {
        "id": "sCDF6kfVu9VL"
      },
      "execution_count": null,
      "outputs": []
    },
    {
      "cell_type": "code",
      "source": [
        "#What if need to add specific place"
      ],
      "metadata": {
        "id": "WplH9ui9vBGt"
      },
      "execution_count": null,
      "outputs": []
    },
    {
      "cell_type": "code",
      "source": [
        "l1.insert(3,'Worldcup2024')"
      ],
      "metadata": {
        "id": "FfFZQdUvvFKg"
      },
      "execution_count": 69,
      "outputs": []
    },
    {
      "cell_type": "code",
      "source": [
        "l1"
      ],
      "metadata": {
        "id": "Yj4NosxlvVf0",
        "outputId": "75884dbd-274f-4480-875f-30cbc4d27ac3",
        "colab": {
          "base_uri": "https://localhost:8080/"
        }
      },
      "execution_count": 70,
      "outputs": [
        {
          "output_type": "execute_result",
          "data": {
            "text/plain": [
              "[[1, 2, 3, 4, 5], 'Aditya', 3.5, 'Worldcup2024', True, 'Rohit Sharma']"
            ]
          },
          "metadata": {},
          "execution_count": 70
        }
      ]
    },
    {
      "cell_type": "code",
      "source": [
        "l1.extend('Hardik')"
      ],
      "metadata": {
        "id": "7pqAB74kvWll"
      },
      "execution_count": 71,
      "outputs": []
    },
    {
      "cell_type": "code",
      "source": [
        "l1"
      ],
      "metadata": {
        "id": "_U1J96ozvnHh",
        "outputId": "181ae226-c61d-47bb-eeab-28f020f2728f",
        "colab": {
          "base_uri": "https://localhost:8080/"
        }
      },
      "execution_count": 72,
      "outputs": [
        {
          "output_type": "execute_result",
          "data": {
            "text/plain": [
              "[[1, 2, 3, 4, 5],\n",
              " 'Aditya',\n",
              " 3.5,\n",
              " 'Worldcup2024',\n",
              " True,\n",
              " 'Rohit Sharma',\n",
              " 'H',\n",
              " 'a',\n",
              " 'r',\n",
              " 'd',\n",
              " 'i',\n",
              " 'k']"
            ]
          },
          "metadata": {},
          "execution_count": 72
        }
      ]
    },
    {
      "cell_type": "code",
      "source": [
        "#so this fucntion split and add"
      ],
      "metadata": {
        "id": "-25z35CMvoJ5"
      },
      "execution_count": null,
      "outputs": []
    },
    {
      "cell_type": "code",
      "source": [
        "l2=[1,2,3,4,5]"
      ],
      "metadata": {
        "id": "2lMOnJLIwI2Y"
      },
      "execution_count": 73,
      "outputs": []
    },
    {
      "cell_type": "code",
      "source": [
        "l2.append([1,2,3])"
      ],
      "metadata": {
        "id": "BdwJ7YdawetJ"
      },
      "execution_count": 75,
      "outputs": []
    },
    {
      "cell_type": "code",
      "source": [
        "l2"
      ],
      "metadata": {
        "id": "i1EeHguYwkIQ",
        "outputId": "db98f07d-fd6d-4dea-a1b7-7c4016bf4577",
        "colab": {
          "base_uri": "https://localhost:8080/"
        }
      },
      "execution_count": 76,
      "outputs": [
        {
          "output_type": "execute_result",
          "data": {
            "text/plain": [
              "[1, 2, 3, 4, 5, [1, 2, 3]]"
            ]
          },
          "metadata": {},
          "execution_count": 76
        }
      ]
    },
    {
      "cell_type": "code",
      "source": [
        "l2.extend([4,5,6])"
      ],
      "metadata": {
        "id": "rRMeFlWuwnv8"
      },
      "execution_count": 77,
      "outputs": []
    },
    {
      "cell_type": "code",
      "source": [
        "l2"
      ],
      "metadata": {
        "id": "dqWTOea4ww2Y",
        "outputId": "efcd3d72-73cd-4155-c476-99000d8783a4",
        "colab": {
          "base_uri": "https://localhost:8080/"
        }
      },
      "execution_count": 78,
      "outputs": [
        {
          "output_type": "execute_result",
          "data": {
            "text/plain": [
              "[1, 2, 3, 4, 5, [1, 2, 3], 4, 5, 6]"
            ]
          },
          "metadata": {},
          "execution_count": 78
        }
      ]
    },
    {
      "cell_type": "code",
      "source": [
        "#Thankyou lets meet in next video"
      ],
      "metadata": {
        "id": "UpagSM-WwyHG"
      },
      "execution_count": null,
      "outputs": []
    },
    {
      "cell_type": "code",
      "source": [
        "l2.pop()"
      ],
      "metadata": {
        "id": "Ps4cT0n_x1fC",
        "outputId": "a6ac2f38-fc3f-4a59-c172-04a8bb142b59",
        "colab": {
          "base_uri": "https://localhost:8080/"
        }
      },
      "execution_count": 79,
      "outputs": [
        {
          "output_type": "execute_result",
          "data": {
            "text/plain": [
              "6"
            ]
          },
          "metadata": {},
          "execution_count": 79
        }
      ]
    },
    {
      "cell_type": "code",
      "source": [
        "l2"
      ],
      "metadata": {
        "id": "OFUvt_s5yA_a",
        "outputId": "7e7ce381-d2e2-4842-8b01-99fd7ff2f038",
        "colab": {
          "base_uri": "https://localhost:8080/"
        }
      },
      "execution_count": 80,
      "outputs": [
        {
          "output_type": "execute_result",
          "data": {
            "text/plain": [
              "[1, 2, 3, 4, 5, [1, 2, 3], 4, 5]"
            ]
          },
          "metadata": {},
          "execution_count": 80
        }
      ]
    },
    {
      "cell_type": "code",
      "source": [
        "l2.pop(1)"
      ],
      "metadata": {
        "id": "_FLm2Vh-yCaC",
        "outputId": "49011610-01a3-4f3b-eb7e-3c34621eafc4",
        "colab": {
          "base_uri": "https://localhost:8080/"
        }
      },
      "execution_count": 82,
      "outputs": [
        {
          "output_type": "execute_result",
          "data": {
            "text/plain": [
              "2"
            ]
          },
          "metadata": {},
          "execution_count": 82
        }
      ]
    },
    {
      "cell_type": "code",
      "source": [
        "l2"
      ],
      "metadata": {
        "id": "ab5auVQXyGXw",
        "outputId": "8ff5d96e-de0a-4171-eba5-d62ec8c56c15",
        "colab": {
          "base_uri": "https://localhost:8080/"
        }
      },
      "execution_count": 83,
      "outputs": [
        {
          "output_type": "execute_result",
          "data": {
            "text/plain": [
              "[1, 3, 4, 5, [1, 2, 3], 4, 5]"
            ]
          },
          "metadata": {},
          "execution_count": 83
        }
      ]
    },
    {
      "cell_type": "code",
      "source": [
        "del l2"
      ],
      "metadata": {
        "id": "DHcxpDI4yK4b"
      },
      "execution_count": 84,
      "outputs": []
    },
    {
      "cell_type": "code",
      "source": [
        "l2"
      ],
      "metadata": {
        "id": "ZsKZdB-4yO8C",
        "outputId": "37ddcd71-b5d9-4375-da7d-69fe3ebc93c0",
        "colab": {
          "base_uri": "https://localhost:8080/",
          "height": 141
        }
      },
      "execution_count": 85,
      "outputs": [
        {
          "output_type": "error",
          "ename": "NameError",
          "evalue": "name 'l2' is not defined",
          "traceback": [
            "\u001b[0;31m---------------------------------------------------------------------------\u001b[0m",
            "\u001b[0;31mNameError\u001b[0m                                 Traceback (most recent call last)",
            "\u001b[0;32m<ipython-input-85-ea320d2ace30>\u001b[0m in \u001b[0;36m<cell line: 1>\u001b[0;34m()\u001b[0m\n\u001b[0;32m----> 1\u001b[0;31m \u001b[0ml2\u001b[0m\u001b[0;34m\u001b[0m\u001b[0;34m\u001b[0m\u001b[0m\n\u001b[0m",
            "\u001b[0;31mNameError\u001b[0m: name 'l2' is not defined"
          ]
        }
      ]
    },
    {
      "cell_type": "code",
      "source": [
        "#so to delete entire list del function"
      ],
      "metadata": {
        "id": "erbcZN75yQ48"
      },
      "execution_count": null,
      "outputs": []
    },
    {
      "cell_type": "code",
      "source": [
        "l2=[1,2,3,4,5,\"aditya\",'s',\"sri\",'s']"
      ],
      "metadata": {
        "id": "1I7Y294tyVa7"
      },
      "execution_count": 87,
      "outputs": []
    },
    {
      "cell_type": "code",
      "source": [
        "l2.remove('s')"
      ],
      "metadata": {
        "id": "DQNxzAPWysvX"
      },
      "execution_count": 88,
      "outputs": []
    },
    {
      "cell_type": "code",
      "source": [
        "l2"
      ],
      "metadata": {
        "id": "ZRLr6_uJy5l4",
        "outputId": "802dc92f-b80e-4060-f7df-434623982aaf",
        "colab": {
          "base_uri": "https://localhost:8080/"
        }
      },
      "execution_count": 89,
      "outputs": [
        {
          "output_type": "execute_result",
          "data": {
            "text/plain": [
              "[1, 2, 3, 4, 5, 'aditya', 'sri', 's']"
            ]
          },
          "metadata": {},
          "execution_count": 89
        }
      ]
    },
    {
      "cell_type": "code",
      "source": [
        "#remove only first occurence"
      ],
      "metadata": {
        "id": "6gplfuIiy6e6"
      },
      "execution_count": null,
      "outputs": []
    },
    {
      "cell_type": "code",
      "source": [
        "#Thankyou lets meet Next Video"
      ],
      "metadata": {
        "id": "nXNlfYSVy_X-"
      },
      "execution_count": null,
      "outputs": []
    },
    {
      "cell_type": "code",
      "source": [
        "l2.clear()"
      ],
      "metadata": {
        "id": "oR4DwZ1fzMvN"
      },
      "execution_count": 90,
      "outputs": []
    },
    {
      "cell_type": "code",
      "source": [
        "l2"
      ],
      "metadata": {
        "id": "whGpXCqMzTzy",
        "outputId": "42336b21-e7af-49a7-c449-fc69f3f73dae",
        "colab": {
          "base_uri": "https://localhost:8080/"
        }
      },
      "execution_count": 91,
      "outputs": [
        {
          "output_type": "execute_result",
          "data": {
            "text/plain": [
              "[]"
            ]
          },
          "metadata": {},
          "execution_count": 91
        }
      ]
    },
    {
      "cell_type": "code",
      "source": [
        "#mean list exist but variable gone"
      ],
      "metadata": {
        "id": "Jf9xSJhjzVZd"
      },
      "execution_count": null,
      "outputs": []
    },
    {
      "cell_type": "code",
      "source": [
        "l2.sort()"
      ],
      "metadata": {
        "id": "0XCik94OzbrL"
      },
      "execution_count": 92,
      "outputs": []
    },
    {
      "cell_type": "code",
      "source": [
        "l2"
      ],
      "metadata": {
        "id": "lLU05gnV0hI2",
        "outputId": "f9be6b09-d2d0-45f7-ce84-bb5c2a2e68b3",
        "colab": {
          "base_uri": "https://localhost:8080/"
        }
      },
      "execution_count": 93,
      "outputs": [
        {
          "output_type": "execute_result",
          "data": {
            "text/plain": [
              "[]"
            ]
          },
          "metadata": {},
          "execution_count": 93
        }
      ]
    },
    {
      "cell_type": "code",
      "source": [
        "l1"
      ],
      "metadata": {
        "id": "tGJ6hM-40iHN",
        "outputId": "ce47fe7d-3635-4f21-d71f-61f6b177fda5",
        "colab": {
          "base_uri": "https://localhost:8080/"
        }
      },
      "execution_count": 94,
      "outputs": [
        {
          "output_type": "execute_result",
          "data": {
            "text/plain": [
              "[[1, 2, 3, 4, 5],\n",
              " 'Aditya',\n",
              " 3.5,\n",
              " 'Worldcup2024',\n",
              " True,\n",
              " 'Rohit Sharma',\n",
              " 'H',\n",
              " 'a',\n",
              " 'r',\n",
              " 'd',\n",
              " 'i',\n",
              " 'k']"
            ]
          },
          "metadata": {},
          "execution_count": 94
        }
      ]
    },
    {
      "cell_type": "code",
      "source": [
        "l1.reverse()"
      ],
      "metadata": {
        "id": "KYyUxpp00kUv"
      },
      "execution_count": 96,
      "outputs": []
    },
    {
      "cell_type": "code",
      "source": [
        "l1"
      ],
      "metadata": {
        "id": "krj77toT0mvE",
        "outputId": "c4304ddb-1215-4bd2-a802-186acd38f14b",
        "colab": {
          "base_uri": "https://localhost:8080/"
        }
      },
      "execution_count": 97,
      "outputs": [
        {
          "output_type": "execute_result",
          "data": {
            "text/plain": [
              "['k',\n",
              " 'i',\n",
              " 'd',\n",
              " 'r',\n",
              " 'a',\n",
              " 'H',\n",
              " 'Rohit Sharma',\n",
              " True,\n",
              " 'Worldcup2024',\n",
              " 3.5,\n",
              " 'Aditya',\n",
              " [1, 2, 3, 4, 5]]"
            ]
          },
          "metadata": {},
          "execution_count": 97
        }
      ]
    },
    {
      "cell_type": "code",
      "source": [
        "#Lets meetin next class"
      ],
      "metadata": {
        "id": "zTLiB0KR0uAS"
      },
      "execution_count": null,
      "outputs": []
    },
    {
      "cell_type": "code",
      "source": [
        "l0=[1,2,3,4,5]"
      ],
      "metadata": {
        "id": "HE4GPc_c1-dQ"
      },
      "execution_count": 109,
      "outputs": []
    },
    {
      "cell_type": "code",
      "source": [
        "k1 =l0"
      ],
      "metadata": {
        "id": "Pvk4O_YL2Hbr"
      },
      "execution_count": 110,
      "outputs": []
    },
    {
      "cell_type": "code",
      "source": [
        "k1"
      ],
      "metadata": {
        "id": "aId6krmy2o7A",
        "outputId": "9fa57b47-1cf6-418a-e0cf-4d2626052f1e",
        "colab": {
          "base_uri": "https://localhost:8080/"
        }
      },
      "execution_count": 111,
      "outputs": [
        {
          "output_type": "execute_result",
          "data": {
            "text/plain": [
              "[1, 2, 3, 4, 5]"
            ]
          },
          "metadata": {},
          "execution_count": 111
        }
      ]
    },
    {
      "cell_type": "code",
      "source": [
        "l0[1]=200"
      ],
      "metadata": {
        "id": "OAb-mA6d2p9x"
      },
      "execution_count": 113,
      "outputs": []
    },
    {
      "cell_type": "code",
      "source": [
        "l0"
      ],
      "metadata": {
        "id": "DGk38skQ2tTq",
        "outputId": "96bc0628-fa45-4656-d526-b133a93e0012",
        "colab": {
          "base_uri": "https://localhost:8080/"
        }
      },
      "execution_count": 114,
      "outputs": [
        {
          "output_type": "execute_result",
          "data": {
            "text/plain": [
              "[1, 200, 3, 4, 5]"
            ]
          },
          "metadata": {},
          "execution_count": 114
        }
      ]
    },
    {
      "cell_type": "code",
      "source": [
        "k1"
      ],
      "metadata": {
        "id": "u9exyOV52wnG",
        "outputId": "590f61be-4c7d-48a7-9567-69f8621b9cc1",
        "colab": {
          "base_uri": "https://localhost:8080/"
        }
      },
      "execution_count": 115,
      "outputs": [
        {
          "output_type": "execute_result",
          "data": {
            "text/plain": [
              "[1, 200, 3, 4, 5]"
            ]
          },
          "metadata": {},
          "execution_count": 115
        }
      ]
    },
    {
      "cell_type": "code",
      "source": [
        "l2=l0.copy()"
      ],
      "metadata": {
        "id": "LGug8bbr2xoV"
      },
      "execution_count": 116,
      "outputs": []
    },
    {
      "cell_type": "code",
      "source": [
        "l2"
      ],
      "metadata": {
        "id": "kZtos-ts4fXg",
        "outputId": "06be87e3-dbb4-4ac2-a527-e67d018e584c",
        "colab": {
          "base_uri": "https://localhost:8080/"
        }
      },
      "execution_count": 117,
      "outputs": [
        {
          "output_type": "execute_result",
          "data": {
            "text/plain": [
              "[1, 200, 3, 4, 5]"
            ]
          },
          "metadata": {},
          "execution_count": 117
        }
      ]
    },
    {
      "cell_type": "code",
      "source": [
        "k1"
      ],
      "metadata": {
        "id": "RHVxa-Qr4ghK",
        "outputId": "a67825b6-d4ae-4b78-e028-b6162770af0e",
        "colab": {
          "base_uri": "https://localhost:8080/"
        }
      },
      "execution_count": 119,
      "outputs": [
        {
          "output_type": "execute_result",
          "data": {
            "text/plain": [
              "[1, 200, 3, 4, 5]"
            ]
          },
          "metadata": {},
          "execution_count": 119
        }
      ]
    },
    {
      "cell_type": "code",
      "source": [
        "l0[0]=300"
      ],
      "metadata": {
        "id": "HOG-5LBZ4m8L"
      },
      "execution_count": 120,
      "outputs": []
    },
    {
      "cell_type": "code",
      "source": [
        "l0"
      ],
      "metadata": {
        "id": "ee9WnMBF4udY",
        "outputId": "2958b941-6983-4777-a0c9-dd033d01b721",
        "colab": {
          "base_uri": "https://localhost:8080/"
        }
      },
      "execution_count": 121,
      "outputs": [
        {
          "output_type": "execute_result",
          "data": {
            "text/plain": [
              "[300, 200, 3, 4, 5]"
            ]
          },
          "metadata": {},
          "execution_count": 121
        }
      ]
    },
    {
      "cell_type": "code",
      "source": [
        "k1"
      ],
      "metadata": {
        "id": "9MB15ReT4wKr",
        "outputId": "37f6fac0-0183-45ed-afac-b2c04e868d02",
        "colab": {
          "base_uri": "https://localhost:8080/"
        }
      },
      "execution_count": 122,
      "outputs": [
        {
          "output_type": "execute_result",
          "data": {
            "text/plain": [
              "[300, 200, 3, 4, 5]"
            ]
          },
          "metadata": {},
          "execution_count": 122
        }
      ]
    },
    {
      "cell_type": "code",
      "source": [
        "l2"
      ],
      "metadata": {
        "id": "Z30U6rFM4xGQ",
        "outputId": "eb68914d-75ce-46fa-aa71-663950bd307e",
        "colab": {
          "base_uri": "https://localhost:8080/"
        }
      },
      "execution_count": 123,
      "outputs": [
        {
          "output_type": "execute_result",
          "data": {
            "text/plain": [
              "[1, 200, 3, 4, 5]"
            ]
          },
          "metadata": {},
          "execution_count": 123
        }
      ]
    },
    {
      "cell_type": "code",
      "source": [
        "#So mean copy create a another space"
      ],
      "metadata": {
        "id": "K9oNuLBa4ySV"
      },
      "execution_count": null,
      "outputs": []
    },
    {
      "cell_type": "code",
      "source": [],
      "metadata": {
        "id": "HCo4ZOWG44Jg"
      },
      "execution_count": null,
      "outputs": []
    }
  ]
}