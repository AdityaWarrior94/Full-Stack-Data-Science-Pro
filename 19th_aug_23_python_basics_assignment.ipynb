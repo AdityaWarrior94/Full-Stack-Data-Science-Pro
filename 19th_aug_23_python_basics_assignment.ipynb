{
  "nbformat": 4,
  "nbformat_minor": 0,
  "metadata": {
    "colab": {
      "provenance": [],
      "include_colab_link": true
    },
    "kernelspec": {
      "name": "python3",
      "display_name": "Python 3"
    },
    "language_info": {
      "name": "python"
    }
  },
  "cells": [
    {
      "cell_type": "markdown",
      "metadata": {
        "id": "view-in-github",
        "colab_type": "text"
      },
      "source": [
        "<a href=\"https://colab.research.google.com/github/AdityaWarrior94/Full-Stack-Data-Science-Pro/blob/main/19th_aug_23_python_basics_assignment.ipynb\" target=\"_parent\"><img src=\"https://colab.research.google.com/assets/colab-badge.svg\" alt=\"Open In Colab\"/></a>"
      ]
    },
    {
      "source": [
        "coordinates = (10, 20)\n",
        "colors = (\"red\", \"green\", \"blue\")\n",
        "print(type(coordinates))  # Output: <class 'tuple'>"
      ],
      "cell_type": "code",
      "metadata": {
        "id": "Y7GB-Md9Ndwv"
      },
      "execution_count": null,
      "outputs": []
    },
    {
      "cell_type": "code",
      "source": [
        "x = 10\n",
        "y = 5\n",
        "\n",
        "# Swapping values without using a temporary variable\n",
        "x, y = y, x\n",
        "\n",
        "# Now, x has the value that y originally had, and y has the value that x originally had\n",
        "print(\"After swapping:\")\n",
        "print(\"x =\", x)\n",
        "print(\"y =\", y)"
      ],
      "metadata": {
        "colab": {
          "base_uri": "https://localhost:8080/"
        },
        "id": "Ye3csjGU-Y3A",
        "outputId": "e393d116-e3ba-4e2b-e00a-e68d8631754d"
      },
      "execution_count": null,
      "outputs": [
        {
          "output_type": "stream",
          "name": "stdout",
          "text": [
            "After swapping:\n",
            "x = 5\n",
            "y = 10\n"
          ]
        }
      ]
    },
    {
      "cell_type": "code",
      "source": [
        "length =float(input(\"Enter the length of the rectangle\"))\n",
        "Width =float(input(\"Enter the length of the rectangle\"))\n",
        "area = length * width\n",
        "print(\"The area of the rectangle is:\", area)"
      ],
      "metadata": {
        "colab": {
          "base_uri": "https://localhost:8080/"
        },
        "id": "hOz8h4sB59M6",
        "outputId": "5210eae0-839e-44b1-cef1-631062192a39"
      },
      "execution_count": null,
      "outputs": [
        {
          "output_type": "stream",
          "name": "stdout",
          "text": [
            "Enter the length of the rectangle4\n",
            "Enter the length of the rectangle5\n",
            "The area of the rectangle is: 20.0\n"
          ]
        }
      ]
    },
    {
      "cell_type": "code",
      "source": [
        "celsius_temperature = float(input(\"Enter the temperature in Celsius: \"))\n",
        "fahrenheit_temperature = (celsius_temperature * 9/5) + 32\n",
        "print(\"Temperature in Fahrenheit:\", fahrenheit_temperature)"
      ],
      "metadata": {
        "colab": {
          "base_uri": "https://localhost:8080/"
        },
        "id": "zG7XCh1a7PvC",
        "outputId": "f0571186-6aa7-400d-e678-dd7fc0c7235a"
      },
      "execution_count": null,
      "outputs": [
        {
          "output_type": "stream",
          "name": "stdout",
          "text": [
            "Enter the temperature in Celsius: 35\n",
            "Temperature in Fahrenheit: 95.0\n"
          ]
        }
      ]
    },
    {
      "cell_type": "code",
      "source": [
        "\n",
        "user_input = input(\"My Name is : \")\n",
        "string_length = len(user_input)\n",
        "print(\"Length of the string:\", string_length)"
      ],
      "metadata": {
        "colab": {
          "base_uri": "https://localhost:8080/"
        },
        "id": "iMgVfejk7zY7",
        "outputId": "750264d9-82bf-466e-9cf7-0617951deba0"
      },
      "execution_count": null,
      "outputs": [
        {
          "output_type": "stream",
          "name": "stdout",
          "text": [
            "My Name is : Aditya\n",
            "Length of the string: 6\n"
          ]
        }
      ]
    },
    {
      "cell_type": "code",
      "source": [
        "user_sentence = input(\"Enter a sentence: \")\n",
        "user_sentence_lower = user_sentence.lower()\n",
        "vowel_count = 0\n",
        "for char in user_sentence_lower:\n",
        "    if char in \"aeiou\":\n",
        "        vowel_count += 1\n",
        "        print(\"Number of vowels in the sentence:\", vowel_count)"
      ],
      "metadata": {
        "colab": {
          "base_uri": "https://localhost:8080/"
        },
        "id": "iVBltd3F8IJr",
        "outputId": "9170fae7-0a9d-445d-f85d-41377324a874"
      },
      "execution_count": null,
      "outputs": [
        {
          "output_type": "stream",
          "name": "stdout",
          "text": [
            "Enter a sentence: aditya\n",
            "Number of vowels in the sentence: 1\n",
            "Number of vowels in the sentence: 2\n",
            "Number of vowels in the sentence: 3\n"
          ]
        }
      ]
    },
    {
      "cell_type": "code",
      "source": [
        "user_input = input(\"Enter a string: \")\n",
        "reversed_string = user_input[::-1]\n",
        "print(\"Reversed string:\", reversed_string)\n"
      ],
      "metadata": {
        "colab": {
          "base_uri": "https://localhost:8080/"
        },
        "id": "_sokHAus9TBD",
        "outputId": "4cbb3e06-3bc6-4e85-f56f-631a000f8683"
      },
      "execution_count": null,
      "outputs": [
        {
          "output_type": "stream",
          "name": "stdout",
          "text": [
            "Enter a string: aditya\n",
            "Reversed string: aytida\n"
          ]
        }
      ]
    },
    {
      "cell_type": "code",
      "source": [
        "# Input a string from the user\n",
        "user_input = input(\"Enter a string: \")\n",
        "\n",
        "# Remove spaces and convert to lowercase for case-insensitive comparison\n",
        "cleaned_input = user_input.replace(\" \", \"\").lower()\n",
        "\n",
        "# Check if the cleaned string is a palindrome\n",
        "if cleaned_input == cleaned_input[::-1]:\n",
        "    print(\"The entered string is a palindrome.\")\n",
        "else:\n",
        "    print(\"The entered string is not a palindrome.\")"
      ],
      "metadata": {
        "colab": {
          "base_uri": "https://localhost:8080/"
        },
        "id": "qNrFllpd8xZu",
        "outputId": "54e10f25-f714-454c-da17-32a2b264dcc6"
      },
      "execution_count": null,
      "outputs": [
        {
          "output_type": "stream",
          "name": "stdout",
          "text": [
            "Enter a string: aka\n",
            "The entered string is a palindrome.\n"
          ]
        }
      ]
    },
    {
      "cell_type": "code",
      "source": [
        "user_input = input(\"Enter a string: \")\n",
        "string_without_spaces = user_input.replace(\" \", \"\")\n",
        "print(\"Modified string without spaces:\", string_without_spaces)"
      ],
      "metadata": {
        "colab": {
          "base_uri": "https://localhost:8080/"
        },
        "id": "9PKYrpr49p9x",
        "outputId": "8ca7fd7e-7497-45a0-d59c-e795ca2926d0"
      },
      "execution_count": null,
      "outputs": [
        {
          "output_type": "stream",
          "name": "stdout",
          "text": [
            "Enter a string: a sd as\n",
            "Modified string without spaces: asdas\n"
          ]
        }
      ]
    },
    {
      "cell_type": "code",
      "source": [
        "\n"
      ],
      "metadata": {
        "id": "694c6nyq-DXP"
      },
      "execution_count": null,
      "outputs": []
    },
    {
      "source": [
        "coordinates = (10, 20)\n",
        "colors = (\"red\", \"green\", \"blue\")\n",
        "print(type(coordinates))  # Output: <class 'tuple'>"
      ],
      "cell_type": "code",
      "metadata": {
        "colab": {
          "base_uri": "https://localhost:8080/"
        },
        "id": "2iXda8mINgkc",
        "outputId": "6322b9af-11f3-4fe6-df05-716a21109edd"
      },
      "execution_count": 1,
      "outputs": [
        {
          "output_type": "stream",
          "name": "stdout",
          "text": [
            "<class 'tuple'>\n"
          ]
        }
      ]
    },
    {
      "cell_type": "code",
      "source": [],
      "metadata": {
        "id": "lwu2De6ONhTc"
      },
      "execution_count": null,
      "outputs": []
    },
    {
      "source": [
        "person = {\"name\": \"Bob\", \"age\": 30, \"city\": \"New York\"}\n",
        "print(type(person))  # Output: <class 'dict'>"
      ],
      "cell_type": "code",
      "metadata": {
        "colab": {
          "base_uri": "https://localhost:8080/"
        },
        "id": "0bo2IO9-NoL0",
        "outputId": "a770a8a3-a575-4e30-96d4-e0d847cce55a"
      },
      "execution_count": 2,
      "outputs": [
        {
          "output_type": "stream",
          "name": "stdout",
          "text": [
            "<class 'dict'>\n"
          ]
        }
      ]
    },
    {
      "cell_type": "code",
      "source": [],
      "metadata": {
        "id": "yAnsgyqPNpLz"
      },
      "execution_count": null,
      "outputs": []
    },
    {
      "source": [
        "unique_numbers = {1, 2, 3, 3, 4}  # Duplicates are removed\n",
        "print(unique_numbers)  # Output: {1, 2, 3, 4}\n",
        "print(type(unique_numbers))  # Output: <class 'set'>"
      ],
      "cell_type": "code",
      "metadata": {
        "colab": {
          "base_uri": "https://localhost:8080/"
        },
        "id": "MX0sbxxdNtpQ",
        "outputId": "52f23470-4bab-4817-8141-9cd3e67501bb"
      },
      "execution_count": 3,
      "outputs": [
        {
          "output_type": "stream",
          "name": "stdout",
          "text": [
            "{1, 2, 3, 4}\n",
            "<class 'set'>\n"
          ]
        }
      ]
    },
    {
      "cell_type": "code",
      "source": [],
      "metadata": {
        "id": "-t0QeRcONuPk"
      },
      "execution_count": null,
      "outputs": []
    },
    {
      "source": [
        "is_raining = True\n",
        "is_sunny = False\n",
        "print(type(is_raining))  # Output: <class 'bool'>"
      ],
      "cell_type": "code",
      "metadata": {
        "colab": {
          "base_uri": "https://localhost:8080/"
        },
        "id": "a7CWf54NNvwF",
        "outputId": "0c263d7e-8c87-4084-fb33-418f791563cb"
      },
      "execution_count": 4,
      "outputs": [
        {
          "output_type": "stream",
          "name": "stdout",
          "text": [
            "<class 'bool'>\n"
          ]
        }
      ]
    },
    {
      "cell_type": "code",
      "source": [],
      "metadata": {
        "id": "iKbAMbBhNwfM"
      },
      "execution_count": null,
      "outputs": []
    },
    {
      "source": [
        "result = None\n",
        "print(type(result))  # Output: <class 'NoneType'>"
      ],
      "cell_type": "code",
      "metadata": {
        "colab": {
          "base_uri": "https://localhost:8080/"
        },
        "id": "n_zk_2MtNyIF",
        "outputId": "110c9cd9-fb8b-4d33-c390-35f9338e6958"
      },
      "execution_count": 5,
      "outputs": [
        {
          "output_type": "stream",
          "name": "stdout",
          "text": [
            "<class 'NoneType'>\n"
          ]
        }
      ]
    },
    {
      "cell_type": "code",
      "source": [
        "l1= [1,2,3,4,\"Aditya\",3.34,True,[1,2,3]]"
      ],
      "metadata": {
        "id": "cXPvperuNy09"
      },
      "execution_count": 17,
      "outputs": []
    },
    {
      "cell_type": "code",
      "source": [
        "type(l1)"
      ],
      "metadata": {
        "colab": {
          "base_uri": "https://localhost:8080/"
        },
        "id": "_gsJKLqooucb",
        "outputId": "6554b317-87a3-4931-ffc9-085f63317eb9"
      },
      "execution_count": 18,
      "outputs": [
        {
          "output_type": "execute_result",
          "data": {
            "text/plain": [
              "list"
            ]
          },
          "metadata": {},
          "execution_count": 18
        }
      ]
    },
    {
      "cell_type": "code",
      "source": [
        "l1[5]"
      ],
      "metadata": {
        "colab": {
          "base_uri": "https://localhost:8080/"
        },
        "id": "exRtMAaSpAPi",
        "outputId": "7a89a8ad-b95d-4a5b-9738-b86c231fff0f"
      },
      "execution_count": 19,
      "outputs": [
        {
          "output_type": "execute_result",
          "data": {
            "text/plain": [
              "3.34"
            ]
          },
          "metadata": {},
          "execution_count": 19
        }
      ]
    },
    {
      "cell_type": "code",
      "source": [
        "l1[-3]"
      ],
      "metadata": {
        "colab": {
          "base_uri": "https://localhost:8080/"
        },
        "id": "ralsZSaspKHe",
        "outputId": "be84e0ed-7b0d-45d9-c220-4530d5678996"
      },
      "execution_count": 20,
      "outputs": [
        {
          "output_type": "execute_result",
          "data": {
            "text/plain": [
              "3.34"
            ]
          },
          "metadata": {},
          "execution_count": 20
        }
      ]
    },
    {
      "cell_type": "code",
      "source": [
        "l1[0:3]"
      ],
      "metadata": {
        "colab": {
          "base_uri": "https://localhost:8080/"
        },
        "id": "7VyPI_q4pMyD",
        "outputId": "3f059375-2781-4aab-85c9-cca5ca6b6e1b"
      },
      "execution_count": 21,
      "outputs": [
        {
          "output_type": "execute_result",
          "data": {
            "text/plain": [
              "[1, 2, 3]"
            ]
          },
          "metadata": {},
          "execution_count": 21
        }
      ]
    },
    {
      "cell_type": "code",
      "source": [
        "l1[-1:-3]"
      ],
      "metadata": {
        "id": "YRyabNWWs-Hr",
        "outputId": "f6bfd5b3-c703-4bf1-8edb-dcd0605d0c48",
        "colab": {
          "base_uri": "https://localhost:8080/"
        }
      },
      "execution_count": 22,
      "outputs": [
        {
          "output_type": "execute_result",
          "data": {
            "text/plain": [
              "[]"
            ]
          },
          "metadata": {},
          "execution_count": 22
        }
      ]
    },
    {
      "cell_type": "code",
      "source": [
        "l1[-1]"
      ],
      "metadata": {
        "id": "xY21VXXjtUDo",
        "outputId": "230cfebb-8025-42d5-b3ba-316bb6f1eda4",
        "colab": {
          "base_uri": "https://localhost:8080/"
        }
      },
      "execution_count": 23,
      "outputs": [
        {
          "output_type": "execute_result",
          "data": {
            "text/plain": [
              "[1, 2, 3]"
            ]
          },
          "metadata": {},
          "execution_count": 23
        }
      ]
    },
    {
      "cell_type": "code",
      "source": [
        "l2=[3,4,5,\"pwskills\",\"learn easily\"]"
      ],
      "metadata": {
        "id": "40c6jDmFtaMa"
      },
      "execution_count": 24,
      "outputs": []
    },
    {
      "cell_type": "code",
      "source": [
        "l1+l2 #Concatenation"
      ],
      "metadata": {
        "id": "7OVigC0Nt0xR",
        "outputId": "7f00020e-12af-48b3-e618-796ecd529ed9",
        "colab": {
          "base_uri": "https://localhost:8080/"
        }
      },
      "execution_count": 25,
      "outputs": [
        {
          "output_type": "execute_result",
          "data": {
            "text/plain": [
              "[1,\n",
              " 2,\n",
              " 3,\n",
              " 4,\n",
              " 'Aditya',\n",
              " 3.34,\n",
              " True,\n",
              " [1, 2, 3],\n",
              " 3,\n",
              " 4,\n",
              " 5,\n",
              " 'pwskills',\n",
              " 'learn easily']"
            ]
          },
          "metadata": {},
          "execution_count": 25
        }
      ]
    },
    {
      "cell_type": "code",
      "source": [
        "l2+\"sudh\""
      ],
      "metadata": {
        "id": "R1K8Copft2-p",
        "outputId": "e974e6c0-5f96-4729-8658-7af75e4e8376",
        "colab": {
          "base_uri": "https://localhost:8080/",
          "height": 141
        }
      },
      "execution_count": 26,
      "outputs": [
        {
          "output_type": "error",
          "ename": "TypeError",
          "evalue": "can only concatenate list (not \"str\") to list",
          "traceback": [
            "\u001b[0;31m---------------------------------------------------------------------------\u001b[0m",
            "\u001b[0;31mTypeError\u001b[0m                                 Traceback (most recent call last)",
            "\u001b[0;32m<ipython-input-26-16a053e5e616>\u001b[0m in \u001b[0;36m<cell line: 1>\u001b[0;34m()\u001b[0m\n\u001b[0;32m----> 1\u001b[0;31m \u001b[0ml2\u001b[0m\u001b[0;34m+\u001b[0m\u001b[0;34m\"sudh\"\u001b[0m\u001b[0;34m\u001b[0m\u001b[0;34m\u001b[0m\u001b[0m\n\u001b[0m",
            "\u001b[0;31mTypeError\u001b[0m: can only concatenate list (not \"str\") to list"
          ]
        }
      ]
    },
    {
      "cell_type": "code",
      "source": [
        "#so mean to say concatenate\n",
        "#only work if same dataframe"
      ],
      "metadata": {
        "id": "879jY2Ret_55"
      },
      "execution_count": null,
      "outputs": []
    },
    {
      "cell_type": "code",
      "source": [
        "l1+l2"
      ],
      "metadata": {
        "id": "LpG4G3JDuHQV",
        "outputId": "86a748b8-6d2e-4008-b70a-d9d777620b7a",
        "colab": {
          "base_uri": "https://localhost:8080/"
        }
      },
      "execution_count": 27,
      "outputs": [
        {
          "output_type": "execute_result",
          "data": {
            "text/plain": [
              "[1,\n",
              " 2,\n",
              " 3,\n",
              " 4,\n",
              " 'Aditya',\n",
              " 3.34,\n",
              " True,\n",
              " [1, 2, 3],\n",
              " 3,\n",
              " 4,\n",
              " 5,\n",
              " 'pwskills',\n",
              " 'learn easily']"
            ]
          },
          "metadata": {},
          "execution_count": 27
        }
      ]
    },
    {
      "cell_type": "code",
      "source": [
        "l2*2 #Repeat same list"
      ],
      "metadata": {
        "id": "ploqeQ8HuNHy",
        "outputId": "07e94863-20e8-4a99-c569-d83a46408bdd",
        "colab": {
          "base_uri": "https://localhost:8080/"
        }
      },
      "execution_count": 28,
      "outputs": [
        {
          "output_type": "execute_result",
          "data": {
            "text/plain": [
              "[3, 4, 5, 'pwskills', 'learn easily', 3, 4, 5, 'pwskills', 'learn easily']"
            ]
          },
          "metadata": {},
          "execution_count": 28
        }
      ]
    },
    {
      "cell_type": "code",
      "source": [
        "#Tuples"
      ],
      "metadata": {
        "id": "oPPFTVeyuQCO"
      },
      "execution_count": null,
      "outputs": []
    },
    {
      "cell_type": "code",
      "source": [
        "l2[0]=300"
      ],
      "metadata": {
        "id": "6kQyx_YQuafY"
      },
      "execution_count": 30,
      "outputs": []
    },
    {
      "cell_type": "code",
      "source": [
        "l2"
      ],
      "metadata": {
        "id": "a-ObwTshugjx",
        "outputId": "70718727-a74a-4510-cfc3-0a54ddfcdb9f",
        "colab": {
          "base_uri": "https://localhost:8080/"
        }
      },
      "execution_count": 31,
      "outputs": [
        {
          "output_type": "execute_result",
          "data": {
            "text/plain": [
              "[300, 4, 5, 'pwskills', 'learn easily']"
            ]
          },
          "metadata": {},
          "execution_count": 31
        }
      ]
    },
    {
      "cell_type": "code",
      "source": [
        "#Mutation we can do as well in list"
      ],
      "metadata": {
        "id": "reDGax8Wumht"
      },
      "execution_count": null,
      "outputs": []
    },
    {
      "cell_type": "code",
      "source": [
        "#if need to store a data where\n",
        "#no mutation allowed"
      ],
      "metadata": {
        "id": "OY_EuWnsusCi"
      },
      "execution_count": null,
      "outputs": []
    },
    {
      "cell_type": "code",
      "source": [
        "t=(1,2,3,4,\"Aditya\",3.34,True,[1,2,3])"
      ],
      "metadata": {
        "id": "PO-_uhHXuy3v"
      },
      "execution_count": 32,
      "outputs": []
    },
    {
      "cell_type": "code",
      "source": [
        "type(t)"
      ],
      "metadata": {
        "id": "NEa0SQARu4tA",
        "outputId": "f4c6918a-e3a6-40f1-ba3d-78a02b20539a",
        "colab": {
          "base_uri": "https://localhost:8080/"
        }
      },
      "execution_count": 33,
      "outputs": [
        {
          "output_type": "execute_result",
          "data": {
            "text/plain": [
              "tuple"
            ]
          },
          "metadata": {},
          "execution_count": 33
        }
      ]
    },
    {
      "cell_type": "code",
      "source": [
        "#indexing concept is same as list"
      ],
      "metadata": {
        "id": "CiMLiycnu70C"
      },
      "execution_count": null,
      "outputs": []
    },
    {
      "cell_type": "code",
      "source": [
        "t[-1]"
      ],
      "metadata": {
        "id": "vWsl8RexvE-S",
        "outputId": "d80069c7-ae6d-4fbf-9c45-957a79ea78f7",
        "colab": {
          "base_uri": "https://localhost:8080/"
        }
      },
      "execution_count": 35,
      "outputs": [
        {
          "output_type": "execute_result",
          "data": {
            "text/plain": [
              "[1, 2, 3]"
            ]
          },
          "metadata": {},
          "execution_count": 35
        }
      ]
    },
    {
      "cell_type": "code",
      "source": [
        "t[0]"
      ],
      "metadata": {
        "id": "uoQbmp4zvGC-",
        "outputId": "1c4383b3-3558-4f07-c3b5-e4782bfddedd",
        "colab": {
          "base_uri": "https://localhost:8080/"
        }
      },
      "execution_count": 36,
      "outputs": [
        {
          "output_type": "execute_result",
          "data": {
            "text/plain": [
              "1"
            ]
          },
          "metadata": {},
          "execution_count": 36
        }
      ]
    },
    {
      "cell_type": "code",
      "source": [
        "t"
      ],
      "metadata": {
        "id": "3cq4EAFOvM7V",
        "outputId": "2894f3f6-4b45-40db-a482-eab7e1452cb9",
        "colab": {
          "base_uri": "https://localhost:8080/"
        }
      },
      "execution_count": 37,
      "outputs": [
        {
          "output_type": "execute_result",
          "data": {
            "text/plain": [
              "(1, 2, 3, 4, 'Aditya', 3.34, True, [1, 2, 3])"
            ]
          },
          "metadata": {},
          "execution_count": 37
        }
      ]
    },
    {
      "cell_type": "code",
      "source": [
        "t[0]=\"sudh\""
      ],
      "metadata": {
        "id": "njTSBXCkvUJl",
        "outputId": "39cab77d-53e9-4dcc-b2d4-043ce9dece24",
        "colab": {
          "base_uri": "https://localhost:8080/",
          "height": 141
        }
      },
      "execution_count": 38,
      "outputs": [
        {
          "output_type": "error",
          "ename": "TypeError",
          "evalue": "'tuple' object does not support item assignment",
          "traceback": [
            "\u001b[0;31m---------------------------------------------------------------------------\u001b[0m",
            "\u001b[0;31mTypeError\u001b[0m                                 Traceback (most recent call last)",
            "\u001b[0;32m<ipython-input-38-384d3f1afc7e>\u001b[0m in \u001b[0;36m<cell line: 1>\u001b[0;34m()\u001b[0m\n\u001b[0;32m----> 1\u001b[0;31m \u001b[0mt\u001b[0m\u001b[0;34m[\u001b[0m\u001b[0;36m0\u001b[0m\u001b[0;34m]\u001b[0m\u001b[0;34m=\u001b[0m\u001b[0;34m\"sudh\"\u001b[0m\u001b[0;34m\u001b[0m\u001b[0;34m\u001b[0m\u001b[0m\n\u001b[0m",
            "\u001b[0;31mTypeError\u001b[0m: 'tuple' object does not support item assignment"
          ]
        }
      ]
    },
    {
      "cell_type": "code",
      "source": [
        "#So in tuple mutation not allowed"
      ],
      "metadata": {
        "id": "ZYxQLoMPvZfP"
      },
      "execution_count": null,
      "outputs": []
    },
    {
      "cell_type": "code",
      "source": [
        "t2=(1,2,3,4)"
      ],
      "metadata": {
        "id": "7LOPMgJ0ve3v"
      },
      "execution_count": 40,
      "outputs": []
    },
    {
      "cell_type": "code",
      "source": [
        "t1+t2"
      ],
      "metadata": {
        "id": "qdH9AEGtvvUY",
        "outputId": "e4a101c2-940d-4101-9663-c85be65d9081",
        "colab": {
          "base_uri": "https://localhost:8080/"
        }
      },
      "execution_count": 41,
      "outputs": [
        {
          "output_type": "execute_result",
          "data": {
            "text/plain": [
              "(1, 2, 3, 4, 1, 2, 3, 4)"
            ]
          },
          "metadata": {},
          "execution_count": 41
        }
      ]
    },
    {
      "cell_type": "code",
      "source": [
        "list(t)"
      ],
      "metadata": {
        "id": "nxmuUpUCvy4g",
        "outputId": "371295e0-39a4-4137-feba-25f15b1f2d26",
        "colab": {
          "base_uri": "https://localhost:8080/"
        }
      },
      "execution_count": 42,
      "outputs": [
        {
          "output_type": "execute_result",
          "data": {
            "text/plain": [
              "[1, 2, 3, 4, 'Aditya', 3.34, True, [1, 2, 3]]"
            ]
          },
          "metadata": {},
          "execution_count": 42
        }
      ]
    },
    {
      "cell_type": "code",
      "source": [
        "#to convert tuple into list vice versa"
      ],
      "metadata": {
        "id": "umt8Civ3v6Ji"
      },
      "execution_count": null,
      "outputs": []
    },
    {
      "cell_type": "code",
      "source": [
        "tuple(l2)"
      ],
      "metadata": {
        "id": "NRp0EWdZv-0G",
        "outputId": "d6059d38-261d-4cbc-9e2c-10a7feed85ba",
        "colab": {
          "base_uri": "https://localhost:8080/"
        }
      },
      "execution_count": 43,
      "outputs": [
        {
          "output_type": "execute_result",
          "data": {
            "text/plain": [
              "(300, 4, 5, 'pwskills', 'learn easily')"
            ]
          },
          "metadata": {},
          "execution_count": 43
        }
      ]
    },
    {
      "cell_type": "code",
      "source": [
        "len(t2)"
      ],
      "metadata": {
        "id": "JlAdn2czwA_7",
        "outputId": "1ee10992-5d81-420f-8655-b664d36f5fd8",
        "colab": {
          "base_uri": "https://localhost:8080/"
        }
      },
      "execution_count": 47,
      "outputs": [
        {
          "output_type": "execute_result",
          "data": {
            "text/plain": [
              "4"
            ]
          },
          "metadata": {},
          "execution_count": 47
        }
      ]
    },
    {
      "cell_type": "code",
      "source": [
        "l1"
      ],
      "metadata": {
        "id": "Hfs21SNqwGFJ",
        "outputId": "bacd70d1-8360-4f88-bc0a-d563a94d5d86",
        "colab": {
          "base_uri": "https://localhost:8080/"
        }
      },
      "execution_count": 48,
      "outputs": [
        {
          "output_type": "execute_result",
          "data": {
            "text/plain": [
              "[1, 2, 3, 4, 'Aditya', 3.34, True, [1, 2, 3]]"
            ]
          },
          "metadata": {},
          "execution_count": 48
        }
      ]
    },
    {
      "cell_type": "code",
      "source": [
        "len(l1)"
      ],
      "metadata": {
        "id": "omKegjZ4wM7q",
        "outputId": "4abc441d-8a48-4663-f150-418e50cdca0c",
        "colab": {
          "base_uri": "https://localhost:8080/"
        }
      },
      "execution_count": 49,
      "outputs": [
        {
          "output_type": "execute_result",
          "data": {
            "text/plain": [
              "8"
            ]
          },
          "metadata": {},
          "execution_count": 49
        }
      ]
    },
    {
      "cell_type": "code",
      "source": [
        "#dictionary"
      ],
      "metadata": {
        "id": "Z7wP0QadwOXu"
      },
      "execution_count": null,
      "outputs": []
    },
    {
      "cell_type": "code",
      "source": [
        "s={}"
      ],
      "metadata": {
        "id": "Wv_Ht4-7w2zv"
      },
      "execution_count": 50,
      "outputs": []
    },
    {
      "cell_type": "code",
      "source": [
        "type(s)"
      ],
      "metadata": {
        "id": "5uViwZmhw5dU",
        "outputId": "8951b36a-ef8f-4467-b50f-9f156c317711",
        "colab": {
          "base_uri": "https://localhost:8080/"
        }
      },
      "execution_count": 51,
      "outputs": [
        {
          "output_type": "execute_result",
          "data": {
            "text/plain": [
              "dict"
            ]
          },
          "metadata": {},
          "execution_count": 51
        }
      ]
    },
    {
      "cell_type": "code",
      "source": [
        "s1={1,2,3,4}"
      ],
      "metadata": {
        "id": "4Fn0hymSw7KP"
      },
      "execution_count": 52,
      "outputs": []
    },
    {
      "cell_type": "code",
      "source": [
        "type(s1)"
      ],
      "metadata": {
        "id": "teTuMiJcxAPi",
        "outputId": "ff9fe632-9496-4e03-8517-7cb5d195e1c3",
        "colab": {
          "base_uri": "https://localhost:8080/"
        }
      },
      "execution_count": 53,
      "outputs": [
        {
          "output_type": "execute_result",
          "data": {
            "text/plain": [
              "set"
            ]
          },
          "metadata": {},
          "execution_count": 53
        }
      ]
    },
    {
      "cell_type": "code",
      "source": [
        "s1"
      ],
      "metadata": {
        "id": "IAlvSAK_xCal",
        "outputId": "e467a377-a34a-4f13-d78c-edf2ccba10e6",
        "colab": {
          "base_uri": "https://localhost:8080/"
        }
      },
      "execution_count": 54,
      "outputs": [
        {
          "output_type": "execute_result",
          "data": {
            "text/plain": [
              "{1, 2, 3, 4}"
            ]
          },
          "metadata": {},
          "execution_count": 54
        }
      ]
    },
    {
      "cell_type": "code",
      "source": [
        "#Set always try to remove duplicates rest same"
      ],
      "metadata": {
        "id": "V_1fcUa9xE5l"
      },
      "execution_count": null,
      "outputs": []
    },
    {
      "cell_type": "code",
      "source": [
        "s2={\"aditya\",\"aditya\",\"aditya\",1,2,3}"
      ],
      "metadata": {
        "id": "nKXDPjOLxL4P"
      },
      "execution_count": 57,
      "outputs": []
    },
    {
      "cell_type": "code",
      "source": [
        "s2"
      ],
      "metadata": {
        "id": "24jCTEyxxTqC",
        "outputId": "2edd39f7-eb7e-462a-851a-f7fdc65fba01",
        "colab": {
          "base_uri": "https://localhost:8080/"
        }
      },
      "execution_count": 58,
      "outputs": [
        {
          "output_type": "execute_result",
          "data": {
            "text/plain": [
              "{1, 2, 3, 'aditya'}"
            ]
          },
          "metadata": {},
          "execution_count": 58
        }
      ]
    },
    {
      "cell_type": "code",
      "source": [
        "#python is also case_semsitive"
      ],
      "metadata": {
        "id": "fiq8iWX6xUmo"
      },
      "execution_count": null,
      "outputs": []
    },
    {
      "cell_type": "code",
      "source": [
        "s3={\"aditya\",\"Aditya\",\"aditya\",1,2,3}"
      ],
      "metadata": {
        "id": "QfQIgMlexvbV"
      },
      "execution_count": 59,
      "outputs": []
    },
    {
      "cell_type": "code",
      "source": [
        "s3"
      ],
      "metadata": {
        "id": "0l7qqpGtxxZL",
        "outputId": "7c2f0367-759e-41a9-ee68-23e98a8f4f59",
        "colab": {
          "base_uri": "https://localhost:8080/"
        }
      },
      "execution_count": 62,
      "outputs": [
        {
          "output_type": "execute_result",
          "data": {
            "text/plain": [
              "{1, 2, 3, 'Aditya', 'aditya'}"
            ]
          },
          "metadata": {},
          "execution_count": 62
        }
      ]
    },
    {
      "cell_type": "code",
      "source": [
        "list(s3)"
      ],
      "metadata": {
        "id": "uVEc2E6VxylV",
        "outputId": "1f915e0d-d003-4040-d787-35ad30ce151c",
        "colab": {
          "base_uri": "https://localhost:8080/"
        }
      },
      "execution_count": 64,
      "outputs": [
        {
          "output_type": "execute_result",
          "data": {
            "text/plain": [
              "['Aditya', 2, 3, 1, 'aditya']"
            ]
          },
          "metadata": {},
          "execution_count": 64
        }
      ]
    },
    {
      "cell_type": "code",
      "source": [
        "set(s3)"
      ],
      "metadata": {
        "id": "yTAcc3aLyJzS",
        "outputId": "cc932191-dd57-477b-f0fa-ef06d756575c",
        "colab": {
          "base_uri": "https://localhost:8080/"
        }
      },
      "execution_count": 65,
      "outputs": [
        {
          "output_type": "execute_result",
          "data": {
            "text/plain": [
              "{1, 2, 3, 'Aditya', 'aditya'}"
            ]
          },
          "metadata": {},
          "execution_count": 65
        }
      ]
    },
    {
      "cell_type": "code",
      "source": [
        "#But if incase list under list\n",
        "#Then there will be error"
      ],
      "metadata": {
        "id": "wAinhAcyyOJH"
      },
      "execution_count": null,
      "outputs": []
    },
    {
      "cell_type": "code",
      "source": [
        "l4=[1,2,3,[1,2,4]]"
      ],
      "metadata": {
        "id": "-edIHY0myUNO"
      },
      "execution_count": 66,
      "outputs": []
    },
    {
      "cell_type": "code",
      "source": [
        "set(l4)"
      ],
      "metadata": {
        "id": "SIyukvCZyb8g",
        "outputId": "300af731-613d-484d-9d5e-8b533de5f274",
        "colab": {
          "base_uri": "https://localhost:8080/",
          "height": 141
        }
      },
      "execution_count": 67,
      "outputs": [
        {
          "output_type": "error",
          "ename": "TypeError",
          "evalue": "unhashable type: 'list'",
          "traceback": [
            "\u001b[0;31m---------------------------------------------------------------------------\u001b[0m",
            "\u001b[0;31mTypeError\u001b[0m                                 Traceback (most recent call last)",
            "\u001b[0;32m<ipython-input-67-908ac31367c9>\u001b[0m in \u001b[0;36m<cell line: 1>\u001b[0;34m()\u001b[0m\n\u001b[0;32m----> 1\u001b[0;31m \u001b[0mset\u001b[0m\u001b[0;34m(\u001b[0m\u001b[0ml4\u001b[0m\u001b[0;34m)\u001b[0m\u001b[0;34m\u001b[0m\u001b[0;34m\u001b[0m\u001b[0m\n\u001b[0m",
            "\u001b[0;31mTypeError\u001b[0m: unhashable type: 'list'"
          ]
        }
      ]
    },
    {
      "cell_type": "code",
      "source": [
        "# prompt: Why set not create if list under list\n",
        "\n",
        "# Sets in Python are collections of unique and unordered elements.\n",
        "# They cannot contain duplicate elements, and the order of elements is not preserved.\n",
        "\n",
        "# When you try to create a set from a list that contains another list,\n",
        "# the inner list is treated as a single element of the set.\n",
        "# This is because sets do not allow nested elements.\n",
        "\n",
        "# For example:\n",
        "l4 = [1, 2, 3, [1, 2, 4]]\n",
        "s4 = set(l4)\n",
        "print(s4)\n",
        "\n",
        "# Output:\n",
        "# {1, 2, 3, [1, 2, 4]}\n",
        "\n",
        "# As you can see, the inner list [1, 2, 4] is treated as a single element of the set.\n",
        "\n",
        "# If you want to create a set from a list that contains another list,\n",
        "# you need to flatten the list first.\n",
        "# This can be done using the following code:\n",
        "\n",
        "l4 = [1, 2, 3, [1, 2, 4]]\n",
        "flattened_list = [item for sublist in l4 for item in sublist]\n",
        "s4 = set(flattened_list)\n",
        "print(s4)\n",
        "\n",
        "# Output:\n",
        "# {1, 2, 3, 4}\n",
        "\n",
        "# Now, the set s4 contains all the elements of the original list,\n",
        "# including the elements of the inner list.\n"
      ],
      "metadata": {
        "id": "JcKLxiXTyga5"
      },
      "execution_count": null,
      "outputs": []
    },
    {
      "cell_type": "code",
      "source": [
        "tuple(s2)"
      ],
      "metadata": {
        "id": "JUoAB_t0y0_S",
        "outputId": "d7a3863d-fe00-4bc7-ebcb-11738d4ebe24",
        "colab": {
          "base_uri": "https://localhost:8080/"
        }
      },
      "execution_count": 68,
      "outputs": [
        {
          "output_type": "execute_result",
          "data": {
            "text/plain": [
              "(1, 2, 3, 'aditya')"
            ]
          },
          "metadata": {},
          "execution_count": 68
        }
      ]
    },
    {
      "cell_type": "code",
      "source": [
        "s2"
      ],
      "metadata": {
        "id": "kn23flPGzCD0",
        "outputId": "ac80c764-e435-4136-871d-a75a3d873d12",
        "colab": {
          "base_uri": "https://localhost:8080/"
        }
      },
      "execution_count": 69,
      "outputs": [
        {
          "output_type": "execute_result",
          "data": {
            "text/plain": [
              "{1, 2, 3, 'aditya'}"
            ]
          },
          "metadata": {},
          "execution_count": 69
        }
      ]
    },
    {
      "cell_type": "code",
      "source": [
        "s2[0]"
      ],
      "metadata": {
        "id": "F5qD6I_DzEFk",
        "outputId": "e9e632b9-9fce-4d24-babd-55a19597c666",
        "colab": {
          "base_uri": "https://localhost:8080/",
          "height": 141
        }
      },
      "execution_count": 70,
      "outputs": [
        {
          "output_type": "error",
          "ename": "TypeError",
          "evalue": "'set' object is not subscriptable",
          "traceback": [
            "\u001b[0;31m---------------------------------------------------------------------------\u001b[0m",
            "\u001b[0;31mTypeError\u001b[0m                                 Traceback (most recent call last)",
            "\u001b[0;32m<ipython-input-70-ab7c8e26b0d3>\u001b[0m in \u001b[0;36m<cell line: 1>\u001b[0;34m()\u001b[0m\n\u001b[0;32m----> 1\u001b[0;31m \u001b[0ms2\u001b[0m\u001b[0;34m[\u001b[0m\u001b[0;36m0\u001b[0m\u001b[0;34m]\u001b[0m\u001b[0;34m\u001b[0m\u001b[0;34m\u001b[0m\u001b[0m\n\u001b[0m",
            "\u001b[0;31mTypeError\u001b[0m: 'set' object is not subscriptable"
          ]
        }
      ]
    },
    {
      "cell_type": "code",
      "source": [
        "#Indexing not allowed right?"
      ],
      "metadata": {
        "id": "G6MSf14jzKSO"
      },
      "execution_count": null,
      "outputs": []
    },
    {
      "cell_type": "code",
      "source": [
        "#So for tht convert first in list"
      ],
      "metadata": {
        "id": "AMUyjYqvzOIw"
      },
      "execution_count": null,
      "outputs": []
    },
    {
      "cell_type": "code",
      "source": [
        "list(s2)"
      ],
      "metadata": {
        "id": "G7JA6nDOzSQZ",
        "outputId": "f731a97b-2719-4295-b95f-c47c03206b87",
        "colab": {
          "base_uri": "https://localhost:8080/"
        }
      },
      "execution_count": 71,
      "outputs": [
        {
          "output_type": "execute_result",
          "data": {
            "text/plain": [
              "[1, 2, 3, 'aditya']"
            ]
          },
          "metadata": {},
          "execution_count": 71
        }
      ]
    },
    {
      "cell_type": "code",
      "source": [],
      "metadata": {
        "id": "Rn8uoJfazT5h"
      },
      "execution_count": null,
      "outputs": []
    }
  ]
}